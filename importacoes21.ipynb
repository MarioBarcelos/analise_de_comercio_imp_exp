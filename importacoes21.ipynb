{
 "cells": [
  {
   "cell_type": "markdown",
   "id": "d33bfcc2",
   "metadata": {},
   "source": [
    "# Analise Exploratoria de dados do Ministério da Economia "
   ]
  },
  {
   "cell_type": "markdown",
   "id": "62b235f8",
   "metadata": {},
   "source": [
    " Este mini-projeto de Análise Exploratória de dados tem como objetivo responder algumas perguntas de negócios sobre as Importações no primeiro trimestre de 2021 e 2022, tendo como base de estudos dados extraidos do <a href=\"https://www.gov.br/produtividade-e-comercio-exterior/pt-br/assuntos/comercio-exterior/estatisticas/base-de-dados-bruta\">Ministério da Economia</a>, esta análise faz uma leve raspagem no mundo da Ciência de Dados.\n",
    "\n",
    "Após a conclusão deste projeto, podemos responder as seguintes perguntas de negócios:\n",
    "- 01 - Qual é o valor total das Importações no período?\n",
    "- 02 - Qual foi o custo das Importações por Estado?\n",
    "- 03 - Qual foi o custo das Importações por Municípios?\n",
    "- 04 - Quais são os principais Remetentes das Importações?\n",
    "- 05 - Quais são os Produtos com Maiores Importações?"
   ]
  },
  {
   "cell_type": "markdown",
   "id": "2f532aff",
   "metadata": {},
   "source": [
    "### Importando Bibliotecas e Pacotes"
   ]
  },
  {
   "cell_type": "code",
   "execution_count": 1,
   "id": "714e4504",
   "metadata": {},
   "outputs": [],
   "source": [
    "import numpy as np\n",
    "import pandas as pd\n",
    "import csv\n",
    "import json \n",
    "import matplotlib.pyplot as plt\n",
    "import seaborn as sns\n",
    "from matplotlib import cm\n",
    "from sklearn.feature_extraction.text import CountVectorizer\n",
    "sns.set_theme(style = \"whitegrid\")\n",
    "import sqlite3"
   ]
  },
  {
   "cell_type": "code",
   "execution_count": null,
   "id": "08293522",
   "metadata": {},
   "outputs": [],
   "source": [
    "# Caso seja necessário faço uma conversão do arquivo tipo csv para json \n",
    "base = {}\n",
    "with open(\"produtos.csv\",\"r\", encoding='utf-8') as csvfile:\n",
    "    csvReader = csv.DictReader(csvfile)\n",
    "    for read in csvReader:\n",
    "        key = read['CO_CUCI']\n",
    "        base[key] = read['NO_CUCI_GRUPO']\n",
    "with open (\"produtos.json\", 'w', encoding='utf-8') as jsonfile:\n",
    "    jsonfile.write(json.dumps(base, indent=4))"
   ]
  },
  {
   "cell_type": "code",
   "execution_count": 2,
   "id": "366c2a73",
   "metadata": {},
   "outputs": [],
   "source": [
    "# Realizando a leitura dos arquivos já convertidos e carregando em uma variável\n",
    "with open(\"meses.json\", \"r\") as jsonMes:\n",
    "    meses = json.loads(jsonMes.read())\n",
    "with open(\"produtos.json\", \"r\") as jsonProdutos:\n",
    "    produtos = json.loads(jsonProdutos.read())\n",
    "with open(\"paises.json\", \"r\") as jsonPais:\n",
    "    paises = json.loads(jsonPais.read())\n",
    "with open(\"estados.json\", \"r\") as jsonEstados:\n",
    "    estados = json.loads(jsonEstados.read())\n",
    "with open(\"municipios.json\", \"r\") as jsonMun:\n",
    "    municipios = json.loads(jsonMun.read())"
   ]
  },
  {
   "cell_type": "markdown",
   "id": "67c12fe2",
   "metadata": {},
   "source": [
    "### Acessando os dados referentes a 2021"
   ]
  },
  {
   "cell_type": "code",
   "execution_count": 10,
   "id": "2319ad13",
   "metadata": {},
   "outputs": [
    {
     "name": "stderr",
     "output_type": "stream",
     "text": [
      "C:\\ProgramData\\Anaconda3\\lib\\site-packages\\IPython\\core\\interactiveshell.py:3444: DtypeWarning: Columns (0,1,2,3,5,6,7) have mixed types.Specify dtype option on import or set low_memory=False.\n",
      "  exec(code_obj, self.user_global_ns, self.user_ns)\n"
     ]
    },
    {
     "name": "stdout",
     "output_type": "stream",
     "text": [
      "<class 'pandas.core.frame.DataFrame'>\n",
      "RangeIndex: 1556170 entries, 0 to 1556169\n",
      "Data columns (total 8 columns):\n",
      " #   Column           Non-Null Count    Dtype \n",
      "---  ------           --------------    ----- \n",
      " 0   Ano              1556170 non-null  object\n",
      " 1   Mês              1556170 non-null  object\n",
      " 2   Produtos         1556170 non-null  object\n",
      " 3   País(orig)       1556170 non-null  object\n",
      " 4   Estado(dest)     1556170 non-null  object\n",
      " 5   Município(dest)  1556170 non-null  object\n",
      " 6   KG_Liq           1556170 non-null  object\n",
      " 7   Total_em_Dólar   1556170 non-null  object\n",
      "dtypes: object(8)\n",
      "memory usage: 95.0+ MB\n"
     ]
    }
   ],
   "source": [
    "#(0) Faço a importação do arquivo csv a ser analisado, (1) crio um DataFrame(df) renomeando as colunas já existentes (2)e visualizo o início.\n",
    "imp_21 = \"IMP_2021_MUN.csv\"\n",
    "dfi21 = pd.read_csv(imp_21, names = ['Ano', 'Mês', 'Produtos', 'País(orig)', 'Estado(dest)', 'Município(dest)', 'KG_Liq', 'Total_em_Dólar'], sep = ';', encoding=\"utf-8-sig\", low_memory=True)\n",
    "dfi21.info()"
   ]
  },
  {
   "cell_type": "code",
   "execution_count": 11,
   "id": "4a0f0df6",
   "metadata": {
    "scrolled": false
   },
   "outputs": [
    {
     "data": {
      "text/html": [
       "<div>\n",
       "<style scoped>\n",
       "    .dataframe tbody tr th:only-of-type {\n",
       "        vertical-align: middle;\n",
       "    }\n",
       "\n",
       "    .dataframe tbody tr th {\n",
       "        vertical-align: top;\n",
       "    }\n",
       "\n",
       "    .dataframe thead th {\n",
       "        text-align: right;\n",
       "    }\n",
       "</style>\n",
       "<table border=\"1\" class=\"dataframe\">\n",
       "  <thead>\n",
       "    <tr style=\"text-align: right;\">\n",
       "      <th></th>\n",
       "      <th>Mês</th>\n",
       "      <th>Produtos</th>\n",
       "      <th>País(orig)</th>\n",
       "      <th>Estado(dest)</th>\n",
       "      <th>Município(dest)</th>\n",
       "      <th>KG_Liq</th>\n",
       "      <th>Total_em_Dólar</th>\n",
       "    </tr>\n",
       "  </thead>\n",
       "  <tbody>\n",
       "    <tr>\n",
       "      <th>65541</th>\n",
       "      <td>1</td>\n",
       "      <td>8512</td>\n",
       "      <td>827</td>\n",
       "      <td>SP</td>\n",
       "      <td>3448708</td>\n",
       "      <td>335</td>\n",
       "      <td>14133</td>\n",
       "    </tr>\n",
       "    <tr>\n",
       "      <th>65543</th>\n",
       "      <td>1</td>\n",
       "      <td>8443</td>\n",
       "      <td>858</td>\n",
       "      <td>SP</td>\n",
       "      <td>3420509</td>\n",
       "      <td>8</td>\n",
       "      <td>2070</td>\n",
       "    </tr>\n",
       "  </tbody>\n",
       "</table>\n",
       "</div>"
      ],
      "text/plain": [
       "      Mês Produtos País(orig) Estado(dest) Município(dest) KG_Liq  \\\n",
       "65541   1     8512        827           SP         3448708    335   \n",
       "65543   1     8443        858           SP         3420509      8   \n",
       "\n",
       "      Total_em_Dólar  \n",
       "65541          14133  \n",
       "65543           2070  "
      ]
     },
     "execution_count": 11,
     "metadata": {},
     "output_type": "execute_result"
    }
   ],
   "source": [
    "#(3)Com a função drop removo a coluna \"ano\" (4)e a linha \"0\".\n",
    "dfi21.drop([\"Ano\"], axis=1, inplace=True)\n",
    "dfi21.drop([0], inplace=True)\n",
    "\n",
    "#(5)Seleciono o período a ser analisado com a função loc (Jan,Fev,Mar) \n",
    "dfi21 = dfi21.loc[dfi21['Mês'].isin([1,2,3])]\n",
    "\n",
    "#(6)Por fim faço a remoção de duplicatas (7)e valores NA\n",
    "dfi21 = dfi21.drop_duplicates()\n",
    "dfi21 = dfi21.dropna()\n",
    "\n",
    "#(8)Coleto algumas informações sobre meu df\n",
    "dfi21.head(2)"
   ]
  },
  {
   "cell_type": "code",
   "execution_count": 12,
   "id": "45a37f34",
   "metadata": {},
   "outputs": [],
   "source": [
    "#(9)Altero o tipo de dados das colunas para utilização com o map \n",
    "dfi21[\"Mês\"] = dfi21[\"Mês\"].astype('string')\n",
    "#dfi21[\"Produtos\"] = dfi21[\"Produtos\"].astype('string')\n",
    "dfi21[\"País(orig)\"] = dfi21[\"País(orig)\"].astype('string')\n",
    "dfi21[\"Estado(dest)\"] = dfi21[\"Estado(dest)\"].astype('string')\n",
    "dfi21[\"Município(dest)\"] = dfi21[\"Município(dest)\"].astype('string')\n",
    "\n",
    "#(10)Renomeio todos os dados das 4 colunas abaixo utilizando a função map\n",
    "dfi21[\"Mês\"] = dfi21[\"Mês\"].map(meses)\n",
    "#dfi21[\"Produtos\"] = dfi21[\"Produtos\"].map(produtos)\n",
    "dfi21[\"País(orig)\"] = dfi21[\"País(orig)\"].map(paises)\n",
    "dfi21[\"Estado(dest)\"] = dfi21[\"Estado(dest)\"].map(estados)\n",
    "dfi21[\"Município(dest)\"] = dfi21[\"Município(dest)\"].map(municipios)"
   ]
  },
  {
   "cell_type": "code",
   "execution_count": 13,
   "id": "2c59b28a",
   "metadata": {
    "scrolled": false
   },
   "outputs": [
    {
     "data": {
      "text/html": [
       "<div>\n",
       "<style scoped>\n",
       "    .dataframe tbody tr th:only-of-type {\n",
       "        vertical-align: middle;\n",
       "    }\n",
       "\n",
       "    .dataframe tbody tr th {\n",
       "        vertical-align: top;\n",
       "    }\n",
       "\n",
       "    .dataframe thead th {\n",
       "        text-align: right;\n",
       "    }\n",
       "</style>\n",
       "<table border=\"1\" class=\"dataframe\">\n",
       "  <thead>\n",
       "    <tr style=\"text-align: right;\">\n",
       "      <th></th>\n",
       "      <th>Mês</th>\n",
       "      <th>Produtos</th>\n",
       "      <th>País(orig)</th>\n",
       "      <th>Estado(dest)</th>\n",
       "      <th>Município(dest)</th>\n",
       "      <th>KG_Liq</th>\n",
       "      <th>Total_em_Dólar</th>\n",
       "    </tr>\n",
       "  </thead>\n",
       "  <tbody>\n",
       "    <tr>\n",
       "      <th>65541</th>\n",
       "      <td>Janeiro</td>\n",
       "      <td>8512</td>\n",
       "      <td>Turquia</td>\n",
       "      <td>São Paulo</td>\n",
       "      <td>São Bernardo do Campo</td>\n",
       "      <td>335</td>\n",
       "      <td>14133</td>\n",
       "    </tr>\n",
       "    <tr>\n",
       "      <th>65543</th>\n",
       "      <td>Janeiro</td>\n",
       "      <td>8443</td>\n",
       "      <td>Vietnã</td>\n",
       "      <td>São Paulo</td>\n",
       "      <td>Indaiatuba</td>\n",
       "      <td>8</td>\n",
       "      <td>2070</td>\n",
       "    </tr>\n",
       "    <tr>\n",
       "      <th>65546</th>\n",
       "      <td>Março</td>\n",
       "      <td>6109</td>\n",
       "      <td>Portugal</td>\n",
       "      <td>São Paulo</td>\n",
       "      <td>Embu</td>\n",
       "      <td>92</td>\n",
       "      <td>7370</td>\n",
       "    </tr>\n",
       "    <tr>\n",
       "      <th>65547</th>\n",
       "      <td>Fevereiro</td>\n",
       "      <td>3206</td>\n",
       "      <td>Estados Unidos</td>\n",
       "      <td>São Paulo</td>\n",
       "      <td>Cajamar</td>\n",
       "      <td>19000</td>\n",
       "      <td>31798</td>\n",
       "    </tr>\n",
       "    <tr>\n",
       "      <th>65548</th>\n",
       "      <td>Fevereiro</td>\n",
       "      <td>8538</td>\n",
       "      <td>Tailândia</td>\n",
       "      <td>Paraná</td>\n",
       "      <td>Irati</td>\n",
       "      <td>971</td>\n",
       "      <td>14577</td>\n",
       "    </tr>\n",
       "  </tbody>\n",
       "</table>\n",
       "</div>"
      ],
      "text/plain": [
       "             Mês Produtos      País(orig) Estado(dest)        Município(dest)  \\\n",
       "65541    Janeiro     8512         Turquia    São Paulo  São Bernardo do Campo   \n",
       "65543    Janeiro     8443          Vietnã    São Paulo             Indaiatuba   \n",
       "65546      Março     6109        Portugal    São Paulo                   Embu   \n",
       "65547  Fevereiro     3206  Estados Unidos    São Paulo                Cajamar   \n",
       "65548  Fevereiro     8538       Tailândia       Paraná                  Irati   \n",
       "\n",
       "      KG_Liq Total_em_Dólar  \n",
       "65541    335          14133  \n",
       "65543      8           2070  \n",
       "65546     92           7370  \n",
       "65547  19000          31798  \n",
       "65548    971          14577  "
      ]
     },
     "execution_count": 13,
     "metadata": {},
     "output_type": "execute_result"
    }
   ],
   "source": [
    "#(11)Confirmo as alterações\n",
    "dfi21.head()"
   ]
  },
  {
   "cell_type": "code",
   "execution_count": null,
   "id": "c6b05f68",
   "metadata": {},
   "outputs": [],
   "source": []
  },
  {
   "cell_type": "markdown",
   "id": "810bf590",
   "metadata": {},
   "source": [
    "### Acessando os dados referentes a 2022"
   ]
  },
  {
   "cell_type": "code",
   "execution_count": 14,
   "id": "5b6b7eb7",
   "metadata": {
    "scrolled": false
   },
   "outputs": [
    {
     "name": "stderr",
     "output_type": "stream",
     "text": [
      "C:\\ProgramData\\Anaconda3\\lib\\site-packages\\IPython\\core\\interactiveshell.py:3444: DtypeWarning: Columns (0,1,2,3,5,6,7) have mixed types.Specify dtype option on import or set low_memory=False.\n",
      "  exec(code_obj, self.user_global_ns, self.user_ns)\n"
     ]
    },
    {
     "name": "stdout",
     "output_type": "stream",
     "text": [
      "<class 'pandas.core.frame.DataFrame'>\n",
      "RangeIndex: 630795 entries, 0 to 630794\n",
      "Data columns (total 8 columns):\n",
      " #   Column           Non-Null Count   Dtype \n",
      "---  ------           --------------   ----- \n",
      " 0   Ano              630795 non-null  object\n",
      " 1   Mês              630795 non-null  object\n",
      " 2   Produtos         630795 non-null  object\n",
      " 3   País(orig)       630795 non-null  object\n",
      " 4   Estado(dest)     630795 non-null  object\n",
      " 5   Município(dest)  630795 non-null  object\n",
      " 6   KG_Liq           630795 non-null  object\n",
      " 7   Total_em_Dólar   630795 non-null  object\n",
      "dtypes: object(8)\n",
      "memory usage: 38.5+ MB\n"
     ]
    }
   ],
   "source": [
    "#(0),(1),(2)\n",
    "imp_22 = \"IMP_2022_MUN.csv\"\n",
    "dfi22 = pd.read_csv(imp_22, names = ['Ano', 'Mês', 'Produtos', 'País(orig)', 'Estado(dest)', 'Município(dest)', 'KG_Liq', 'Total_em_Dólar'], sep = ';', encoding=\"utf-8-sig\", low_memory=True)\n",
    "dfi22.info()"
   ]
  },
  {
   "cell_type": "code",
   "execution_count": 15,
   "id": "61a7a669",
   "metadata": {},
   "outputs": [
    {
     "data": {
      "text/html": [
       "<div>\n",
       "<style scoped>\n",
       "    .dataframe tbody tr th:only-of-type {\n",
       "        vertical-align: middle;\n",
       "    }\n",
       "\n",
       "    .dataframe tbody tr th {\n",
       "        vertical-align: top;\n",
       "    }\n",
       "\n",
       "    .dataframe thead th {\n",
       "        text-align: right;\n",
       "    }\n",
       "</style>\n",
       "<table border=\"1\" class=\"dataframe\">\n",
       "  <thead>\n",
       "    <tr style=\"text-align: right;\">\n",
       "      <th></th>\n",
       "      <th>Mês</th>\n",
       "      <th>Produtos</th>\n",
       "      <th>País(orig)</th>\n",
       "      <th>Estado(dest)</th>\n",
       "      <th>Município(dest)</th>\n",
       "      <th>KG_Liq</th>\n",
       "      <th>Total_em_Dólar</th>\n",
       "    </tr>\n",
       "  </thead>\n",
       "  <tbody>\n",
       "    <tr>\n",
       "      <th>65537</th>\n",
       "      <td>2</td>\n",
       "      <td>7312</td>\n",
       "      <td>820</td>\n",
       "      <td>SC</td>\n",
       "      <td>4209102</td>\n",
       "      <td>106476</td>\n",
       "      <td>115526</td>\n",
       "    </tr>\n",
       "    <tr>\n",
       "      <th>65538</th>\n",
       "      <td>1</td>\n",
       "      <td>1901</td>\n",
       "      <td>87</td>\n",
       "      <td>SP</td>\n",
       "      <td>3418800</td>\n",
       "      <td>1345</td>\n",
       "      <td>4478</td>\n",
       "    </tr>\n",
       "  </tbody>\n",
       "</table>\n",
       "</div>"
      ],
      "text/plain": [
       "      Mês Produtos País(orig) Estado(dest) Município(dest)  KG_Liq  \\\n",
       "65537   2     7312        820           SC         4209102  106476   \n",
       "65538   1     1901         87           SP         3418800    1345   \n",
       "\n",
       "      Total_em_Dólar  \n",
       "65537         115526  \n",
       "65538           4478  "
      ]
     },
     "execution_count": 15,
     "metadata": {},
     "output_type": "execute_result"
    }
   ],
   "source": [
    "#(3),(4)\n",
    "dfi22.drop([\"Ano\"], axis=1, inplace=True)\n",
    "dfi22.drop([0], inplace=True)\n",
    "\n",
    "#(5)\n",
    "dfi22 = dfi22.loc[dfi22['Mês'].isin([1,2,3])]\n",
    "\n",
    "#(6),(7)\n",
    "dfi22 = dfi22.drop_duplicates()\n",
    "dfi22 = dfi22.dropna()\n",
    "\n",
    "#(8)\n",
    "dfi22.head(2)"
   ]
  },
  {
   "cell_type": "code",
   "execution_count": 16,
   "id": "f8efdf05",
   "metadata": {},
   "outputs": [],
   "source": [
    "#(9)\n",
    "dfi22[\"Mês\"] = dfi22[\"Mês\"].astype('string')\n",
    "#dfi21[\"Produtos\"] = dfi22[\"Produtos\"].astype('string')\n",
    "dfi22[\"País(orig)\"] = dfi22[\"País(orig)\"].astype('string')\n",
    "dfi22[\"Estado(dest)\"] = dfi22[\"Estado(dest)\"].astype('string')\n",
    "dfi22[\"Município(dest)\"] = dfi22[\"Município(dest)\"].astype('string')\n",
    "\n",
    "#(10)\n",
    "dfi22[\"Mês\"] = dfi22[\"Mês\"].map(meses)\n",
    "#dfi22[\"Produtos\"] = dfi22[\"Produtos\"].map(produtos)\n",
    "dfi22[\"País(orig)\"] = dfi22[\"País(orig)\"].map(paises)\n",
    "dfi22[\"Estado(dest)\"] = dfi22[\"Estado(dest)\"].map(estados)\n",
    "dfi22[\"Município(dest)\"] = dfi22[\"Município(dest)\"].map(municipios)"
   ]
  },
  {
   "cell_type": "code",
   "execution_count": 17,
   "id": "1f1270e0",
   "metadata": {
    "scrolled": true
   },
   "outputs": [
    {
     "data": {
      "text/html": [
       "<div>\n",
       "<style scoped>\n",
       "    .dataframe tbody tr th:only-of-type {\n",
       "        vertical-align: middle;\n",
       "    }\n",
       "\n",
       "    .dataframe tbody tr th {\n",
       "        vertical-align: top;\n",
       "    }\n",
       "\n",
       "    .dataframe thead th {\n",
       "        text-align: right;\n",
       "    }\n",
       "</style>\n",
       "<table border=\"1\" class=\"dataframe\">\n",
       "  <thead>\n",
       "    <tr style=\"text-align: right;\">\n",
       "      <th></th>\n",
       "      <th>Mês</th>\n",
       "      <th>Produtos</th>\n",
       "      <th>País(orig)</th>\n",
       "      <th>Estado(dest)</th>\n",
       "      <th>Município(dest)</th>\n",
       "      <th>KG_Liq</th>\n",
       "      <th>Total_em_Dólar</th>\n",
       "    </tr>\n",
       "  </thead>\n",
       "  <tbody>\n",
       "    <tr>\n",
       "      <th>65537</th>\n",
       "      <td>Fevereiro</td>\n",
       "      <td>7312</td>\n",
       "      <td>Tunísia</td>\n",
       "      <td>Santa Catarina</td>\n",
       "      <td>Joinville</td>\n",
       "      <td>106476</td>\n",
       "      <td>115526</td>\n",
       "    </tr>\n",
       "    <tr>\n",
       "      <th>65538</th>\n",
       "      <td>Janeiro</td>\n",
       "      <td>1901</td>\n",
       "      <td>NaN</td>\n",
       "      <td>São Paulo</td>\n",
       "      <td>Guarulhos</td>\n",
       "      <td>1345</td>\n",
       "      <td>4478</td>\n",
       "    </tr>\n",
       "    <tr>\n",
       "      <th>65540</th>\n",
       "      <td>Fevereiro</td>\n",
       "      <td>6006</td>\n",
       "      <td>Peru</td>\n",
       "      <td>São Paulo</td>\n",
       "      <td>São Paulo</td>\n",
       "      <td>1873</td>\n",
       "      <td>29319</td>\n",
       "    </tr>\n",
       "    <tr>\n",
       "      <th>65542</th>\n",
       "      <td>Fevereiro</td>\n",
       "      <td>3402</td>\n",
       "      <td>Reino Unido</td>\n",
       "      <td>Santa Catarina</td>\n",
       "      <td>Itajaí</td>\n",
       "      <td>240</td>\n",
       "      <td>2946</td>\n",
       "    </tr>\n",
       "    <tr>\n",
       "      <th>65543</th>\n",
       "      <td>Fevereiro</td>\n",
       "      <td>2710</td>\n",
       "      <td>França</td>\n",
       "      <td>São Paulo</td>\n",
       "      <td>Mauá</td>\n",
       "      <td>35460</td>\n",
       "      <td>43806</td>\n",
       "    </tr>\n",
       "  </tbody>\n",
       "</table>\n",
       "</div>"
      ],
      "text/plain": [
       "             Mês Produtos   País(orig)    Estado(dest) Município(dest)  \\\n",
       "65537  Fevereiro     7312      Tunísia  Santa Catarina       Joinville   \n",
       "65538    Janeiro     1901          NaN       São Paulo       Guarulhos   \n",
       "65540  Fevereiro     6006         Peru       São Paulo       São Paulo   \n",
       "65542  Fevereiro     3402  Reino Unido  Santa Catarina          Itajaí   \n",
       "65543  Fevereiro     2710       França       São Paulo            Mauá   \n",
       "\n",
       "       KG_Liq Total_em_Dólar  \n",
       "65537  106476         115526  \n",
       "65538    1345           4478  \n",
       "65540    1873          29319  \n",
       "65542     240           2946  \n",
       "65543   35460          43806  "
      ]
     },
     "execution_count": 17,
     "metadata": {},
     "output_type": "execute_result"
    }
   ],
   "source": [
    "#(11)\n",
    "dfi22.head()"
   ]
  },
  {
   "cell_type": "markdown",
   "id": "15e009d7",
   "metadata": {},
   "source": [
    "> Iniciando a Análise Exploratória"
   ]
  },
  {
   "cell_type": "markdown",
   "id": "095fc032",
   "metadata": {},
   "source": [
    "## Qual é o valor total das Importações no período?"
   ]
  },
  {
   "cell_type": "markdown",
   "id": "53f818fa",
   "metadata": {},
   "source": [
    "Informações sobre o custo das Importações (Comercio Exterior -> Brasil) e o total de operações."
   ]
  },
  {
   "cell_type": "code",
   "execution_count": 60,
   "id": "820d4a71",
   "metadata": {},
   "outputs": [],
   "source": [
    "# Calculando os valores das importações de 2021\n",
    "despesa_total21 = dfi21[\"Total_em_Dólar\"].sum()\n",
    "despesa_count21 = dfi21[\"Total_em_Dólar\"].count()\n",
    "despesa_media21 = dfi21[\"Total_em_Dólar\"].mean()"
   ]
  },
  {
   "cell_type": "code",
   "execution_count": 61,
   "id": "48f34aaf",
   "metadata": {},
   "outputs": [],
   "source": [
    "# Calculando os valores das importações 2022\n",
    "despesa_total22 = dfi22[\"Total_em_Dólar\"].sum()\n",
    "despesa_count22 = dfi22[\"Total_em_Dólar\"].count()\n",
    "despesa_media22 = dfi22[\"Total_em_Dólar\"].mean()"
   ]
  },
  {
   "cell_type": "code",
   "execution_count": 63,
   "id": "b384961c",
   "metadata": {
    "scrolled": false
   },
   "outputs": [
    {
     "data": {
      "text/html": [
       "<div>\n",
       "<style scoped>\n",
       "    .dataframe tbody tr th:only-of-type {\n",
       "        vertical-align: middle;\n",
       "    }\n",
       "\n",
       "    .dataframe tbody tr th {\n",
       "        vertical-align: top;\n",
       "    }\n",
       "\n",
       "    .dataframe thead th {\n",
       "        text-align: right;\n",
       "    }\n",
       "</style>\n",
       "<table border=\"1\" class=\"dataframe\">\n",
       "  <thead>\n",
       "    <tr style=\"text-align: right;\">\n",
       "      <th></th>\n",
       "      <th>Ano_Base</th>\n",
       "      <th>Total de Transações</th>\n",
       "      <th>Total Investido em Importações</th>\n",
       "      <th>Valor médio das Importações</th>\n",
       "    </tr>\n",
       "  </thead>\n",
       "  <tbody>\n",
       "    <tr>\n",
       "      <th>0</th>\n",
       "      <td>2021</td>\n",
       "      <td>367,305</td>\n",
       "      <td>$45,108,420,544.00</td>\n",
       "      <td>$122,809.17</td>\n",
       "    </tr>\n",
       "    <tr>\n",
       "      <th>1</th>\n",
       "      <td>2022</td>\n",
       "      <td>336,434</td>\n",
       "      <td>$53,837,816,631.00</td>\n",
       "      <td>$160,024.90</td>\n",
       "    </tr>\n",
       "  </tbody>\n",
       "</table>\n",
       "</div>"
      ],
      "text/plain": [
       "  Ano_Base Total de Transações Total Investido em Importações  \\\n",
       "0     2021             367,305             $45,108,420,544.00   \n",
       "1     2022             336,434             $53,837,816,631.00   \n",
       "\n",
       "  Valor médio das Importações  \n",
       "0                 $122,809.17  \n",
       "1                 $160,024.90  "
      ]
     },
     "execution_count": 63,
     "metadata": {},
     "output_type": "execute_result"
    }
   ],
   "source": [
    "# Crio um dataframe utilizando o \"pandas\"\n",
    "dfi2122 = pd.DataFrame({\"Ano_Base\": [\"2021\", \"2022\"],\n",
    "                        \"Total de Transações\": (despesa_count21, despesa_count22),\n",
    "                        \"Total Investido em Importações\": (despesa_total21, despesa_total22),\n",
    "                        \"Valor médio das Importações\": (despesa_media21, despesa_media22)})\n",
    "# Edito a formatação numérica das colunas \n",
    "dfi2122 [\"Total de Transações\"] = dfi2122[\"Total de Transações\"].map(\"{:,.0f}\".format)\n",
    "dfi2122 [\"Total Investido em Importações\"] = dfi2122[\"Total Investido em Importações\"].map(\"${:,.2f}\".format)\n",
    "dfi2122 [\"Valor médio das Importações\"] = dfi2122[\"Valor médio das Importações\"].map(\"${:,.2f}\".format)\n",
    "dfi2122.head()"
   ]
  },
  {
   "cell_type": "markdown",
   "id": "ae5fe4e4",
   "metadata": {},
   "source": [
    "## Qual foi o custo das Importações por Estado?"
   ]
  },
  {
   "cell_type": "markdown",
   "id": "ec062629",
   "metadata": {},
   "source": [
    "Faço um resumo do custo das Importações por Estado, comparando os dois periódos."
   ]
  },
  {
   "cell_type": "markdown",
   "id": "cab70795",
   "metadata": {},
   "source": [
    "### Ano 2021"
   ]
  },
  {
   "cell_type": "code",
   "execution_count": 67,
   "id": "c92dd642",
   "metadata": {
    "scrolled": true
   },
   "outputs": [
    {
     "name": "stderr",
     "output_type": "stream",
     "text": [
      "C:\\ProgramData\\Anaconda3\\lib\\site-packages\\IPython\\core\\interactiveshell.py:3444: FutureWarning: Dropping invalid columns in DataFrameGroupBy.mean is deprecated. In a future version, a TypeError will be raised. Before calling .mean, select only columns which should be valid for the function.\n",
      "  exec(code_obj, self.user_global_ns, self.user_ns)\n"
     ]
    },
    {
     "data": {
      "text/html": [
       "<div>\n",
       "<style scoped>\n",
       "    .dataframe tbody tr th:only-of-type {\n",
       "        vertical-align: middle;\n",
       "    }\n",
       "\n",
       "    .dataframe tbody tr th {\n",
       "        vertical-align: top;\n",
       "    }\n",
       "\n",
       "    .dataframe thead th {\n",
       "        text-align: right;\n",
       "    }\n",
       "</style>\n",
       "<table border=\"1\" class=\"dataframe\">\n",
       "  <thead>\n",
       "    <tr style=\"text-align: right;\">\n",
       "      <th></th>\n",
       "      <th>Número de Transações</th>\n",
       "      <th>Valor médio das Importações</th>\n",
       "      <th>Valor total das Importações</th>\n",
       "    </tr>\n",
       "    <tr>\n",
       "      <th>Estado(dest)</th>\n",
       "      <th></th>\n",
       "      <th></th>\n",
       "      <th></th>\n",
       "    </tr>\n",
       "  </thead>\n",
       "  <tbody>\n",
       "    <tr>\n",
       "      <th>São Paulo</th>\n",
       "      <td>176896</td>\n",
       "      <td>$83,123.59</td>\n",
       "      <td>$14,704,230,886.00</td>\n",
       "    </tr>\n",
       "    <tr>\n",
       "      <th>Santa Catarina</th>\n",
       "      <td>39114</td>\n",
       "      <td>$143,970.04</td>\n",
       "      <td>$5,631,244,066.00</td>\n",
       "    </tr>\n",
       "    <tr>\n",
       "      <th>Paraná</th>\n",
       "      <td>29623</td>\n",
       "      <td>$121,462.17</td>\n",
       "      <td>$3,598,073,717.00</td>\n",
       "    </tr>\n",
       "    <tr>\n",
       "      <th>Minas Gerais</th>\n",
       "      <td>27637</td>\n",
       "      <td>$91,229.71</td>\n",
       "      <td>$2,521,315,557.00</td>\n",
       "    </tr>\n",
       "    <tr>\n",
       "      <th>Rio Grande do Sul</th>\n",
       "      <td>22874</td>\n",
       "      <td>$82,697.37</td>\n",
       "      <td>$1,891,619,687.00</td>\n",
       "    </tr>\n",
       "  </tbody>\n",
       "</table>\n",
       "</div>"
      ],
      "text/plain": [
       "                   Número de Transações Valor médio das Importações  \\\n",
       "Estado(dest)                                                          \n",
       "São Paulo                        176896                  $83,123.59   \n",
       "Santa Catarina                    39114                 $143,970.04   \n",
       "Paraná                            29623                 $121,462.17   \n",
       "Minas Gerais                      27637                  $91,229.71   \n",
       "Rio Grande do Sul                 22874                  $82,697.37   \n",
       "\n",
       "                  Valor total das Importações  \n",
       "Estado(dest)                                   \n",
       "São Paulo                  $14,704,230,886.00  \n",
       "Santa Catarina              $5,631,244,066.00  \n",
       "Paraná                      $3,598,073,717.00  \n",
       "Minas Gerais                $2,521,315,557.00  \n",
       "Rio Grande do Sul           $1,891,619,687.00  "
      ]
     },
     "execution_count": 67,
     "metadata": {},
     "output_type": "execute_result"
    }
   ],
   "source": [
    "# Agrupando Valores \n",
    "uf_total21 = dfi21.groupby([\"Estado(dest)\"]).sum()[\"Total_em_Dólar\"].rename(\"Valor total das Importações\")\n",
    "uf_media21 = dfi21.groupby([\"Estado(dest)\"]).mean()[\"Total_em_Dólar\"].rename(\"Valor médio das Importações\")\n",
    "uf_operacoes21 = dfi21.groupby([\"Estado(dest)\"]).count()[\"Total_em_Dólar\"].rename(\"Número de Transações\")\n",
    "\n",
    "# Crio um DataFrame para armazenar os Valores agrupados\n",
    "uf_analises21 = pd.DataFrame({\"Número de Transações\" : uf_operacoes21,\n",
    "                              \"Valor médio das Importações\" : uf_media21,\n",
    "                              \"Valor total das Importações\" : uf_total21})\n",
    "\n",
    "# Edito a formatação numérica dos dados\n",
    "uf_analises21 = uf_analises21.round(2)\n",
    "uf_analises21 [\"Valor médio das Importações\"] = uf_analises21[\"Valor médio das Importações\"].map(\"${:,.2f}\".format)\n",
    "uf_analises21 [\"Valor total das Importações\"] = uf_analises21[\"Valor total das Importações\"].map(\"${:,.2f}\".format)\n",
    "uf_analises21.sort_values(\"Número de Transações\", ascending=False).head()"
   ]
  },
  {
   "cell_type": "markdown",
   "id": "79ad7cd7",
   "metadata": {},
   "source": [
    "### Ano 2022"
   ]
  },
  {
   "cell_type": "code",
   "execution_count": 68,
   "id": "ee8eabb3",
   "metadata": {},
   "outputs": [
    {
     "name": "stderr",
     "output_type": "stream",
     "text": [
      "C:\\ProgramData\\Anaconda3\\lib\\site-packages\\IPython\\core\\interactiveshell.py:3444: FutureWarning: Dropping invalid columns in DataFrameGroupBy.mean is deprecated. In a future version, a TypeError will be raised. Before calling .mean, select only columns which should be valid for the function.\n",
      "  exec(code_obj, self.user_global_ns, self.user_ns)\n"
     ]
    },
    {
     "data": {
      "text/html": [
       "<div>\n",
       "<style scoped>\n",
       "    .dataframe tbody tr th:only-of-type {\n",
       "        vertical-align: middle;\n",
       "    }\n",
       "\n",
       "    .dataframe tbody tr th {\n",
       "        vertical-align: top;\n",
       "    }\n",
       "\n",
       "    .dataframe thead th {\n",
       "        text-align: right;\n",
       "    }\n",
       "</style>\n",
       "<table border=\"1\" class=\"dataframe\">\n",
       "  <thead>\n",
       "    <tr style=\"text-align: right;\">\n",
       "      <th></th>\n",
       "      <th>Número de Transações</th>\n",
       "      <th>Valor médio das Importações</th>\n",
       "      <th>Valor total das Importações</th>\n",
       "    </tr>\n",
       "    <tr>\n",
       "      <th>Estado(dest)</th>\n",
       "      <th></th>\n",
       "      <th></th>\n",
       "      <th></th>\n",
       "    </tr>\n",
       "  </thead>\n",
       "  <tbody>\n",
       "    <tr>\n",
       "      <th>São Paulo</th>\n",
       "      <td>161942</td>\n",
       "      <td>$95,564.91</td>\n",
       "      <td>$15,475,972,865.00</td>\n",
       "    </tr>\n",
       "    <tr>\n",
       "      <th>Santa Catarina</th>\n",
       "      <td>36190</td>\n",
       "      <td>$163,690.79</td>\n",
       "      <td>$5,923,969,514.00</td>\n",
       "    </tr>\n",
       "    <tr>\n",
       "      <th>Paraná</th>\n",
       "      <td>26782</td>\n",
       "      <td>$160,036.48</td>\n",
       "      <td>$4,286,096,885.00</td>\n",
       "    </tr>\n",
       "    <tr>\n",
       "      <th>Minas Gerais</th>\n",
       "      <td>25491</td>\n",
       "      <td>$120,631.68</td>\n",
       "      <td>$3,075,022,161.00</td>\n",
       "    </tr>\n",
       "    <tr>\n",
       "      <th>Rio de Janeiro</th>\n",
       "      <td>21464</td>\n",
       "      <td>$294,593.75</td>\n",
       "      <td>$6,323,160,256.00</td>\n",
       "    </tr>\n",
       "  </tbody>\n",
       "</table>\n",
       "</div>"
      ],
      "text/plain": [
       "                Número de Transações Valor médio das Importações  \\\n",
       "Estado(dest)                                                       \n",
       "São Paulo                     161942                  $95,564.91   \n",
       "Santa Catarina                 36190                 $163,690.79   \n",
       "Paraná                         26782                 $160,036.48   \n",
       "Minas Gerais                   25491                 $120,631.68   \n",
       "Rio de Janeiro                 21464                 $294,593.75   \n",
       "\n",
       "               Valor total das Importações  \n",
       "Estado(dest)                                \n",
       "São Paulo               $15,475,972,865.00  \n",
       "Santa Catarina           $5,923,969,514.00  \n",
       "Paraná                   $4,286,096,885.00  \n",
       "Minas Gerais             $3,075,022,161.00  \n",
       "Rio de Janeiro           $6,323,160,256.00  "
      ]
     },
     "execution_count": 68,
     "metadata": {},
     "output_type": "execute_result"
    }
   ],
   "source": [
    "# Agrupando Valores \n",
    "uf_total22 = dfi22.groupby([\"Estado(dest)\"]).sum()[\"Total_em_Dólar\"].rename(\"Valor total das Importações\")\n",
    "uf_media22 = dfi22.groupby([\"Estado(dest)\"]).mean()[\"Total_em_Dólar\"].rename(\"Valor médio das Importações\")\n",
    "uf_operacoes22 = dfi22.groupby([\"Estado(dest)\"]).count()[\"Total_em_Dólar\"].rename(\"Número de Transações\")\n",
    "\n",
    "# Crio um DataFrame para armazenar os Valores agrupados\n",
    "uf_analises22 = pd.DataFrame({\"Número de Transações\" : uf_operacoes22,\n",
    "                              \"Valor médio das Importações\" : uf_media22,\n",
    "                              \"Valor total das Importações\" : uf_total22})\n",
    "\n",
    "# Edito a formatação numérica dos dados\n",
    "uf_analises22 = uf_analises22.round(2)\n",
    "uf_analises22 [\"Valor médio das Importações\"] = uf_analises22[\"Valor médio das Importações\"].map(\"${:,.2f}\".format)\n",
    "uf_analises22 [\"Valor total das Importações\"] = uf_analises22[\"Valor total das Importações\"].map(\"${:,.2f}\".format)\n",
    "uf_analises22.sort_values(\"Número de Transações\", ascending=False).head()"
   ]
  },
  {
   "cell_type": "code",
   "execution_count": null,
   "id": "c74be550",
   "metadata": {},
   "outputs": [],
   "source": []
  },
  {
   "cell_type": "markdown",
   "id": "72277711",
   "metadata": {},
   "source": [
    "## Qual foi o custo das Importações por Municípios?"
   ]
  },
  {
   "cell_type": "markdown",
   "id": "dd316a7f",
   "metadata": {},
   "source": [
    "Detalhamento dos valores movimentados por Municípios no Período."
   ]
  },
  {
   "cell_type": "markdown",
   "id": "fe625762",
   "metadata": {},
   "source": [
    "### Ano 2021"
   ]
  },
  {
   "cell_type": "code",
   "execution_count": null,
   "id": "90c09e22",
   "metadata": {},
   "outputs": [],
   "source": [
    "# Agrupando Valores\n",
    "mun_media21 = dfi21.groupby([\"Município(dest)\"]).mean()[\"Total_em_Dólar\"].rename(\"Valor médio das Importações\")\n",
    "mun_total21 = dfi21.groupby([\"Município(dest)\"]).sum()[\"Total_em_Dólar\"].rename(\"Valor total das Importações\")\n",
    "mun_count21 = dfi21.groupby([\"Município(dest)\"]).count()[\"Total_em_Dólar\"].rename(\"Número de Compras no Exterior\")\n",
    "\n",
    "# Criando um DataFrame dos Municípios com os valores agrupados\n",
    "mun_analises21 = pd.DataFrame({\"Número de Compras no Exterior\" : mun_count21,\n",
    "                               \"Valor médio das Importações\" : mun_media21,\n",
    "                               \"Valor total das Importações\" : mun_total21})\n",
    "\n",
    "# Edito a formatação numérica dos dados\n",
    "mun_analises21 [\"Valor total das Importações\"] = mun_analises21[\"Valor total das Importações\"].map(\"${:,.2f}\".format)\n",
    "mun_analises21 [\"Valor médio das Importações\"] = mun_analises21[\"Valor médio das Importações\"].map(\"${:,.2f}\".format)\n",
    "mun_analises21.sort_values(\"Número de Compras no Exterior\", ascending=False).head()"
   ]
  },
  {
   "cell_type": "markdown",
   "id": "504beed6",
   "metadata": {},
   "source": [
    "### Ano 2022"
   ]
  },
  {
   "cell_type": "code",
   "execution_count": null,
   "id": "a0532301",
   "metadata": {},
   "outputs": [],
   "source": [
    "# Agrupando Valores\n",
    "mun_media22 = dfi22.groupby([\"Município(dest)\"]).mean()[\"Total_em_Dólar\"].rename(\"Valor médio das Importações\")\n",
    "mun_total22 = dfi22.groupby([\"Município(dest)\"]).sum()[\"Total_em_Dólar\"].rename(\"Valor total das Importações\")\n",
    "mun_count22 = dfi22.groupby([\"Município(dest)\"]).count()[\"Total_em_Dólar\"].rename(\"Número de Compras no Exterior\")\n",
    "\n",
    "# Criando um DataFrame dos Municípios com os valores agrupados\n",
    "mun_analises22 = pd.DataFrame({\"Número de Compras no Exterior\" : mun_count22,\n",
    "                               \"Valor médio das Importações\" : mun_media22,\n",
    "                               \"Valor total das Importações\" : mun_total22})\n",
    "\n",
    "# Edito a formatação numérica dos dados\n",
    "mun_analises22 [\"Valor total das Importações\"] = mun_analises22[\"Valor total das Importações\"].map(\"${:,.2f}\".format)\n",
    "mun_analises22 [\"Valor médio das Importações\"] = mun_analises22[\"Valor médio das Importações\"].map(\"${:,.2f}\".format)\n",
    "mun_analises22.sort_values(\"Número de Compras no Exterior\", ascending=False).head()"
   ]
  },
  {
   "cell_type": "code",
   "execution_count": null,
   "id": "4e1a3231",
   "metadata": {},
   "outputs": [],
   "source": []
  },
  {
   "cell_type": "markdown",
   "id": "bb84a232",
   "metadata": {},
   "source": [
    "## Quais são os principais Remetentes das Importações?"
   ]
  },
  {
   "cell_type": "markdown",
   "id": "a89a6e2a",
   "metadata": {},
   "source": [
    "Busco identificar os principais Paises com maiores exportações para o Brasil durante o Período."
   ]
  },
  {
   "cell_type": "markdown",
   "id": "399ec7af",
   "metadata": {},
   "source": [
    "### Ano 2021"
   ]
  },
  {
   "cell_type": "code",
   "execution_count": null,
   "id": "efb433c4",
   "metadata": {},
   "outputs": [],
   "source": [
    "model_21 = dfi21[\"País(orig)\"]\n",
    "model_21.index = range(1, 367306, 1)"
   ]
  },
  {
   "cell_type": "code",
   "execution_count": null,
   "id": "b7da14d2",
   "metadata": {},
   "outputs": [],
   "source": [
    "model_21"
   ]
  },
  {
   "cell_type": "code",
   "execution_count": null,
   "id": "84582af4",
   "metadata": {},
   "outputs": [],
   "source": [
    "pais_21 = [str(i) for i in model_21]"
   ]
  },
  {
   "cell_type": "code",
   "execution_count": null,
   "id": "acce34c4",
   "metadata": {},
   "outputs": [],
   "source": [
    "# Criando um vetor\n",
    "vetor_pais21 = CountVectorizer(analyzer = 'word', lowercase=False)"
   ]
  },
  {
   "cell_type": "code",
   "execution_count": null,
   "id": "40040098",
   "metadata": {},
   "outputs": [],
   "source": [
    "# Vetorizando o dataset\n",
    "paises21 = vetor_pais21.fit_transform(pais_21)"
   ]
  },
  {
   "cell_type": "code",
   "execution_count": null,
   "id": "018be1c1",
   "metadata": {},
   "outputs": [],
   "source": [
    "# Retornando paises únicos\n",
    "paises_unicos21 = vetor_pais21.get_feature_names()"
   ]
  },
  {
   "cell_type": "code",
   "execution_count": null,
   "id": "3dc6a186",
   "metadata": {
    "scrolled": true
   },
   "outputs": [],
   "source": [
    "# Criar um novo DataFrame dos Paises\n",
    "dfpaises21 = pd.DataFrame(paises21.todense(), columns = paises_unicos21, index = model_21.index)"
   ]
  },
  {
   "cell_type": "code",
   "execution_count": null,
   "id": "ee8f6fcc",
   "metadata": {
    "scrolled": true
   },
   "outputs": [],
   "source": [
    "dfpaises21.info()"
   ]
  },
  {
   "cell_type": "code",
   "execution_count": null,
   "id": "57c5657b",
   "metadata": {},
   "outputs": [],
   "source": [
    "# Calcular o percentual \n",
    "percent_pais21 = 100 * pd.Series(dfpaises21.sum()).sort_values(ascending = False) / dfpaises21.shape[0]"
   ]
  },
  {
   "cell_type": "code",
   "execution_count": null,
   "id": "5fb9755b",
   "metadata": {},
   "outputs": [],
   "source": [
    "# Um head dos 5 primeiros \n",
    "percent_pais21.head(5)"
   ]
  },
  {
   "cell_type": "markdown",
   "id": "acc4ac46",
   "metadata": {},
   "source": [
    "### Ano 2022"
   ]
  },
  {
   "cell_type": "code",
   "execution_count": null,
   "id": "c9ee19b2",
   "metadata": {},
   "outputs": [],
   "source": [
    "model_22 = dfi22[\"País(orig)\"]\n",
    "model_22.index = range(1, 336435, 1)"
   ]
  },
  {
   "cell_type": "code",
   "execution_count": null,
   "id": "7930f15d",
   "metadata": {},
   "outputs": [],
   "source": [
    "model_22"
   ]
  },
  {
   "cell_type": "code",
   "execution_count": null,
   "id": "fc7339b0",
   "metadata": {},
   "outputs": [],
   "source": [
    "pais_22 = [str(i) for i in model_22]"
   ]
  },
  {
   "cell_type": "code",
   "execution_count": null,
   "id": "efb49118",
   "metadata": {},
   "outputs": [],
   "source": [
    "# Criando um vetor\n",
    "vetor_pais22 = CountVectorizer(analyzer = 'word', lowercase=False)"
   ]
  },
  {
   "cell_type": "code",
   "execution_count": null,
   "id": "fbb3a944",
   "metadata": {},
   "outputs": [],
   "source": [
    "# Vetorizando o dataset\n",
    "paises22 = vetor_pais22.fit_transform(pais_22)"
   ]
  },
  {
   "cell_type": "code",
   "execution_count": null,
   "id": "fe52ee3f",
   "metadata": {},
   "outputs": [],
   "source": [
    "# Retornando paises únicos\n",
    "paises_unicos22 = vetor_pais22.get_feature_names()"
   ]
  },
  {
   "cell_type": "code",
   "execution_count": null,
   "id": "28c9a3af",
   "metadata": {},
   "outputs": [],
   "source": [
    "# Criar um novo DataFrame dos Paises\n",
    "dfpaises22 = pd.DataFrame(paises22.todense(), columns = paises_unicos22, index = model_22.index)"
   ]
  },
  {
   "cell_type": "code",
   "execution_count": null,
   "id": "0a101919",
   "metadata": {},
   "outputs": [],
   "source": [
    "dfpaises22.info()"
   ]
  },
  {
   "cell_type": "code",
   "execution_count": null,
   "id": "dbaaa170",
   "metadata": {},
   "outputs": [],
   "source": [
    "# Calcular o percentual \n",
    "percent_pais22 = 100 * pd.Series(dfpaises22.sum()).sort_values(ascending = False) / dfpaises22.shape[0]"
   ]
  },
  {
   "cell_type": "code",
   "execution_count": null,
   "id": "7a5e9cdf",
   "metadata": {},
   "outputs": [],
   "source": [
    "# Um head dos 5 primeiros \n",
    "percent_pais22.head(5)"
   ]
  },
  {
   "cell_type": "markdown",
   "id": "8c814970",
   "metadata": {},
   "source": [
    "## Quais são os Produtos com Maiores Importações?"
   ]
  },
  {
   "cell_type": "markdown",
   "id": "9b3eff41",
   "metadata": {},
   "source": [
    "\"Brincando\" com SQL, localizo os produtos mais adiquiridos do Mercado Exterior"
   ]
  },
  {
   "cell_type": "code",
   "execution_count": 23,
   "id": "00212442",
   "metadata": {},
   "outputs": [],
   "source": [
    "#\n",
    "query_produto = \"\"\"CREATE TABLE Produtos (Itens VARCHAR(50), \n",
    "                                          Paises VARCHAR(50),\n",
    "                                          Total REAL);\"\"\"\n",
    "#\n",
    "conn = sqlite3.connect('produtos_importados.db')\n",
    "conn.execute(query_produto)\n",
    "conn.commit()"
   ]
  },
  {
   "cell_type": "code",
   "execution_count": 57,
   "id": "d35f2519",
   "metadata": {},
   "outputs": [],
   "source": [
    "produto = dfi21[\"Produtos\"]\n",
    "pais = dfi21[\"País(orig)\"]\n",
    "total = pd.to_numeric(dfi21[\"Total_em_Dólar\"], errors ='coerce')"
   ]
  },
  {
   "cell_type": "code",
   "execution_count": 58,
   "id": "3f40d43c",
   "metadata": {},
   "outputs": [
    {
     "data": {
      "text/plain": [
       "dtype('int64')"
      ]
     },
     "execution_count": 58,
     "metadata": {},
     "output_type": "execute_result"
    }
   ],
   "source": [
    "total.dtypes"
   ]
  },
  {
   "cell_type": "code",
   "execution_count": 59,
   "id": "604ca765",
   "metadata": {
    "scrolled": true
   },
   "outputs": [
    {
     "ename": "UFuncTypeError",
     "evalue": "ufunc 'add' did not contain a loop with signature matching types (dtype('<U590'), dtype('<U590')) -> dtype('<U590')",
     "output_type": "error",
     "traceback": [
      "\u001b[1;31m---------------------------------------------------------------------------\u001b[0m",
      "\u001b[1;31mUFuncTypeError\u001b[0m                            Traceback (most recent call last)",
      "\u001b[1;32mC:\\Users\\MARIOB~1\\AppData\\Local\\Temp/ipykernel_7128/4064544882.py\u001b[0m in \u001b[0;36m<module>\u001b[1;34m\u001b[0m\n\u001b[0;32m      1\u001b[0m \u001b[1;31m#\u001b[0m\u001b[1;33m\u001b[0m\u001b[1;33m\u001b[0m\u001b[0m\n\u001b[0;32m      2\u001b[0m \u001b[0mdata\u001b[0m \u001b[1;33m=\u001b[0m \u001b[1;33m[\u001b[0m\u001b[1;33m(\u001b[0m\u001b[1;34m\"Test\"\u001b[0m\u001b[1;33m,\u001b[0m \u001b[1;34m\"Test\"\u001b[0m\u001b[1;33m,\u001b[0m \u001b[1;36m100\u001b[0m\u001b[1;33m)\u001b[0m\u001b[1;33m]\u001b[0m\u001b[1;33m\u001b[0m\u001b[1;33m\u001b[0m\u001b[0m\n\u001b[1;32m----> 3\u001b[1;33m \u001b[0minserir\u001b[0m \u001b[1;33m=\u001b[0m \u001b[1;34m\"INSERT INTO Produtos VALUES ('\"\u001b[0m\u001b[1;33m+\u001b[0m \u001b[0mstr\u001b[0m\u001b[1;33m(\u001b[0m\u001b[0mproduto\u001b[0m\u001b[1;33m)\u001b[0m \u001b[1;33m+\u001b[0m \u001b[1;34m\"','\"\u001b[0m \u001b[1;33m+\u001b[0m \u001b[0mstr\u001b[0m\u001b[1;33m(\u001b[0m\u001b[0mpais\u001b[0m\u001b[1;33m)\u001b[0m \u001b[1;33m+\u001b[0m \u001b[1;34m\"','\"\u001b[0m \u001b[1;33m+\u001b[0m \u001b[0mtotal\u001b[0m \u001b[1;33m+\u001b[0m \u001b[1;34m\"');\"\u001b[0m\u001b[1;33m\u001b[0m\u001b[1;33m\u001b[0m\u001b[0m\n\u001b[0m\u001b[0;32m      4\u001b[0m \u001b[0mconn\u001b[0m\u001b[1;33m.\u001b[0m\u001b[0mexecutemany\u001b[0m\u001b[1;33m(\u001b[0m\u001b[0minserir\u001b[0m\u001b[1;33m)\u001b[0m\u001b[1;33m\u001b[0m\u001b[1;33m\u001b[0m\u001b[0m\n\u001b[0;32m      5\u001b[0m \u001b[0mconn\u001b[0m\u001b[1;33m.\u001b[0m\u001b[0mcommit\u001b[0m\u001b[1;33m(\u001b[0m\u001b[1;33m)\u001b[0m\u001b[1;33m\u001b[0m\u001b[1;33m\u001b[0m\u001b[0m\n",
      "\u001b[1;32mC:\\ProgramData\\Anaconda3\\lib\\site-packages\\pandas\\core\\ops\\common.py\u001b[0m in \u001b[0;36mnew_method\u001b[1;34m(self, other)\u001b[0m\n\u001b[0;32m     67\u001b[0m         \u001b[0mother\u001b[0m \u001b[1;33m=\u001b[0m \u001b[0mitem_from_zerodim\u001b[0m\u001b[1;33m(\u001b[0m\u001b[0mother\u001b[0m\u001b[1;33m)\u001b[0m\u001b[1;33m\u001b[0m\u001b[1;33m\u001b[0m\u001b[0m\n\u001b[0;32m     68\u001b[0m \u001b[1;33m\u001b[0m\u001b[0m\n\u001b[1;32m---> 69\u001b[1;33m         \u001b[1;32mreturn\u001b[0m \u001b[0mmethod\u001b[0m\u001b[1;33m(\u001b[0m\u001b[0mself\u001b[0m\u001b[1;33m,\u001b[0m \u001b[0mother\u001b[0m\u001b[1;33m)\u001b[0m\u001b[1;33m\u001b[0m\u001b[1;33m\u001b[0m\u001b[0m\n\u001b[0m\u001b[0;32m     70\u001b[0m \u001b[1;33m\u001b[0m\u001b[0m\n\u001b[0;32m     71\u001b[0m     \u001b[1;32mreturn\u001b[0m \u001b[0mnew_method\u001b[0m\u001b[1;33m\u001b[0m\u001b[1;33m\u001b[0m\u001b[0m\n",
      "\u001b[1;32mC:\\ProgramData\\Anaconda3\\lib\\site-packages\\pandas\\core\\arraylike.py\u001b[0m in \u001b[0;36m__radd__\u001b[1;34m(self, other)\u001b[0m\n\u001b[0;32m     94\u001b[0m     \u001b[1;33m@\u001b[0m\u001b[0munpack_zerodim_and_defer\u001b[0m\u001b[1;33m(\u001b[0m\u001b[1;34m\"__radd__\"\u001b[0m\u001b[1;33m)\u001b[0m\u001b[1;33m\u001b[0m\u001b[1;33m\u001b[0m\u001b[0m\n\u001b[0;32m     95\u001b[0m     \u001b[1;32mdef\u001b[0m \u001b[0m__radd__\u001b[0m\u001b[1;33m(\u001b[0m\u001b[0mself\u001b[0m\u001b[1;33m,\u001b[0m \u001b[0mother\u001b[0m\u001b[1;33m)\u001b[0m\u001b[1;33m:\u001b[0m\u001b[1;33m\u001b[0m\u001b[1;33m\u001b[0m\u001b[0m\n\u001b[1;32m---> 96\u001b[1;33m         \u001b[1;32mreturn\u001b[0m \u001b[0mself\u001b[0m\u001b[1;33m.\u001b[0m\u001b[0m_arith_method\u001b[0m\u001b[1;33m(\u001b[0m\u001b[0mother\u001b[0m\u001b[1;33m,\u001b[0m \u001b[0mroperator\u001b[0m\u001b[1;33m.\u001b[0m\u001b[0mradd\u001b[0m\u001b[1;33m)\u001b[0m\u001b[1;33m\u001b[0m\u001b[1;33m\u001b[0m\u001b[0m\n\u001b[0m\u001b[0;32m     97\u001b[0m \u001b[1;33m\u001b[0m\u001b[0m\n\u001b[0;32m     98\u001b[0m     \u001b[1;33m@\u001b[0m\u001b[0munpack_zerodim_and_defer\u001b[0m\u001b[1;33m(\u001b[0m\u001b[1;34m\"__sub__\"\u001b[0m\u001b[1;33m)\u001b[0m\u001b[1;33m\u001b[0m\u001b[1;33m\u001b[0m\u001b[0m\n",
      "\u001b[1;32mC:\\ProgramData\\Anaconda3\\lib\\site-packages\\pandas\\core\\series.py\u001b[0m in \u001b[0;36m_arith_method\u001b[1;34m(self, other, op)\u001b[0m\n\u001b[0;32m   5524\u001b[0m \u001b[1;33m\u001b[0m\u001b[0m\n\u001b[0;32m   5525\u001b[0m         \u001b[1;32mwith\u001b[0m \u001b[0mnp\u001b[0m\u001b[1;33m.\u001b[0m\u001b[0merrstate\u001b[0m\u001b[1;33m(\u001b[0m\u001b[0mall\u001b[0m\u001b[1;33m=\u001b[0m\u001b[1;34m\"ignore\"\u001b[0m\u001b[1;33m)\u001b[0m\u001b[1;33m:\u001b[0m\u001b[1;33m\u001b[0m\u001b[1;33m\u001b[0m\u001b[0m\n\u001b[1;32m-> 5526\u001b[1;33m             \u001b[0mresult\u001b[0m \u001b[1;33m=\u001b[0m \u001b[0mops\u001b[0m\u001b[1;33m.\u001b[0m\u001b[0marithmetic_op\u001b[0m\u001b[1;33m(\u001b[0m\u001b[0mlvalues\u001b[0m\u001b[1;33m,\u001b[0m \u001b[0mrvalues\u001b[0m\u001b[1;33m,\u001b[0m \u001b[0mop\u001b[0m\u001b[1;33m)\u001b[0m\u001b[1;33m\u001b[0m\u001b[1;33m\u001b[0m\u001b[0m\n\u001b[0m\u001b[0;32m   5527\u001b[0m \u001b[1;33m\u001b[0m\u001b[0m\n\u001b[0;32m   5528\u001b[0m         \u001b[1;32mreturn\u001b[0m \u001b[0mself\u001b[0m\u001b[1;33m.\u001b[0m\u001b[0m_construct_result\u001b[0m\u001b[1;33m(\u001b[0m\u001b[0mresult\u001b[0m\u001b[1;33m,\u001b[0m \u001b[0mname\u001b[0m\u001b[1;33m=\u001b[0m\u001b[0mres_name\u001b[0m\u001b[1;33m)\u001b[0m\u001b[1;33m\u001b[0m\u001b[1;33m\u001b[0m\u001b[0m\n",
      "\u001b[1;32mC:\\ProgramData\\Anaconda3\\lib\\site-packages\\pandas\\core\\ops\\array_ops.py\u001b[0m in \u001b[0;36marithmetic_op\u001b[1;34m(left, right, op)\u001b[0m\n\u001b[0;32m    222\u001b[0m         \u001b[0m_bool_arith_check\u001b[0m\u001b[1;33m(\u001b[0m\u001b[0mop\u001b[0m\u001b[1;33m,\u001b[0m \u001b[0mleft\u001b[0m\u001b[1;33m,\u001b[0m \u001b[0mright\u001b[0m\u001b[1;33m)\u001b[0m\u001b[1;33m\u001b[0m\u001b[1;33m\u001b[0m\u001b[0m\n\u001b[0;32m    223\u001b[0m \u001b[1;33m\u001b[0m\u001b[0m\n\u001b[1;32m--> 224\u001b[1;33m         \u001b[0mres_values\u001b[0m \u001b[1;33m=\u001b[0m \u001b[0m_na_arithmetic_op\u001b[0m\u001b[1;33m(\u001b[0m\u001b[0mleft\u001b[0m\u001b[1;33m,\u001b[0m \u001b[0mright\u001b[0m\u001b[1;33m,\u001b[0m \u001b[0mop\u001b[0m\u001b[1;33m)\u001b[0m\u001b[1;33m\u001b[0m\u001b[1;33m\u001b[0m\u001b[0m\n\u001b[0m\u001b[0;32m    225\u001b[0m \u001b[1;33m\u001b[0m\u001b[0m\n\u001b[0;32m    226\u001b[0m     \u001b[1;32mreturn\u001b[0m \u001b[0mres_values\u001b[0m\u001b[1;33m\u001b[0m\u001b[1;33m\u001b[0m\u001b[0m\n",
      "\u001b[1;32mC:\\ProgramData\\Anaconda3\\lib\\site-packages\\pandas\\core\\ops\\array_ops.py\u001b[0m in \u001b[0;36m_na_arithmetic_op\u001b[1;34m(left, right, op, is_cmp)\u001b[0m\n\u001b[0;32m    164\u001b[0m \u001b[1;33m\u001b[0m\u001b[0m\n\u001b[0;32m    165\u001b[0m     \u001b[1;32mtry\u001b[0m\u001b[1;33m:\u001b[0m\u001b[1;33m\u001b[0m\u001b[1;33m\u001b[0m\u001b[0m\n\u001b[1;32m--> 166\u001b[1;33m         \u001b[0mresult\u001b[0m \u001b[1;33m=\u001b[0m \u001b[0mfunc\u001b[0m\u001b[1;33m(\u001b[0m\u001b[0mleft\u001b[0m\u001b[1;33m,\u001b[0m \u001b[0mright\u001b[0m\u001b[1;33m)\u001b[0m\u001b[1;33m\u001b[0m\u001b[1;33m\u001b[0m\u001b[0m\n\u001b[0m\u001b[0;32m    167\u001b[0m     \u001b[1;32mexcept\u001b[0m \u001b[0mTypeError\u001b[0m\u001b[1;33m:\u001b[0m\u001b[1;33m\u001b[0m\u001b[1;33m\u001b[0m\u001b[0m\n\u001b[0;32m    168\u001b[0m         \u001b[1;32mif\u001b[0m \u001b[0mis_object_dtype\u001b[0m\u001b[1;33m(\u001b[0m\u001b[0mleft\u001b[0m\u001b[1;33m)\u001b[0m \u001b[1;32mor\u001b[0m \u001b[0mis_object_dtype\u001b[0m\u001b[1;33m(\u001b[0m\u001b[0mright\u001b[0m\u001b[1;33m)\u001b[0m \u001b[1;32mand\u001b[0m \u001b[1;32mnot\u001b[0m \u001b[0mis_cmp\u001b[0m\u001b[1;33m:\u001b[0m\u001b[1;33m\u001b[0m\u001b[1;33m\u001b[0m\u001b[0m\n",
      "\u001b[1;32mC:\\ProgramData\\Anaconda3\\lib\\site-packages\\pandas\\core\\roperator.py\u001b[0m in \u001b[0;36mradd\u001b[1;34m(left, right)\u001b[0m\n\u001b[0;32m      7\u001b[0m \u001b[1;33m\u001b[0m\u001b[0m\n\u001b[0;32m      8\u001b[0m \u001b[1;32mdef\u001b[0m \u001b[0mradd\u001b[0m\u001b[1;33m(\u001b[0m\u001b[0mleft\u001b[0m\u001b[1;33m,\u001b[0m \u001b[0mright\u001b[0m\u001b[1;33m)\u001b[0m\u001b[1;33m:\u001b[0m\u001b[1;33m\u001b[0m\u001b[1;33m\u001b[0m\u001b[0m\n\u001b[1;32m----> 9\u001b[1;33m     \u001b[1;32mreturn\u001b[0m \u001b[0mright\u001b[0m \u001b[1;33m+\u001b[0m \u001b[0mleft\u001b[0m\u001b[1;33m\u001b[0m\u001b[1;33m\u001b[0m\u001b[0m\n\u001b[0m\u001b[0;32m     10\u001b[0m \u001b[1;33m\u001b[0m\u001b[0m\n\u001b[0;32m     11\u001b[0m \u001b[1;33m\u001b[0m\u001b[0m\n",
      "\u001b[1;31mUFuncTypeError\u001b[0m: ufunc 'add' did not contain a loop with signature matching types (dtype('<U590'), dtype('<U590')) -> dtype('<U590')"
     ]
    }
   ],
   "source": [
    "#\n",
    "data = [(\"Test\", \"Test\", 100)]\n",
    "inserir = \"INSERT INTO Produtos VALUES ()\"\n",
    "conn.executemany(inserir)\n",
    "conn.commit()"
   ]
  },
  {
   "cell_type": "code",
   "execution_count": 34,
   "id": "b2eb6cee",
   "metadata": {},
   "outputs": [
    {
     "data": {
      "text/plain": [
       "[('Test', 'Test', 100.0)]"
      ]
     },
     "execution_count": 34,
     "metadata": {},
     "output_type": "execute_result"
    }
   ],
   "source": [
    "conn.execute(\"SELECT * FROM Produtos\").fetchall()"
   ]
  },
  {
   "cell_type": "markdown",
   "id": "b02f0ae7",
   "metadata": {},
   "source": [
    "# Fim da Análise!"
   ]
  },
  {
   "cell_type": "code",
   "execution_count": null,
   "id": "49af8e95",
   "metadata": {},
   "outputs": [],
   "source": [
    "itens_unicos = [itens for itens in itens_unicos if len(itens) > 1]\n",
    "    "
   ]
  }
 ],
 "metadata": {
  "kernelspec": {
   "display_name": "Python 3 (ipykernel)",
   "language": "python",
   "name": "python3"
  },
  "language_info": {
   "codemirror_mode": {
    "name": "ipython",
    "version": 3
   },
   "file_extension": ".py",
   "mimetype": "text/x-python",
   "name": "python",
   "nbconvert_exporter": "python",
   "pygments_lexer": "ipython3",
   "version": "3.9.7"
  }
 },
 "nbformat": 4,
 "nbformat_minor": 5
}
