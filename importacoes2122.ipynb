{
 "cells": [
  {
   "cell_type": "markdown",
   "id": "d33bfcc2",
   "metadata": {},
   "source": [
    "# Analise Exploratória de dados do Ministério da Economia "
   ]
  },
  {
   "cell_type": "markdown",
   "id": "62b235f8",
   "metadata": {},
   "source": [
    " Este mini-projeto de Análise Exploratória de dados tem como objetivo responder algumas perguntas de negócios sobre as Importações no primeiro trimestre de 2021 e 2022, como fonte de estudos, utilizo dados extraídos do <a href=\"https://www.gov.br/produtividade-e-comercio-exterior/pt-br/assuntos/comercio-exterior/estatisticas/base-de-dados-bruta\">Ministério da Economia.</a>\n",
    "\n",
    "Após a conclusão deste projeto, podemos responder as seguintes perguntas de negócios:\n",
    "- 01 - Qual é o valor total das Importações no período?\n",
    "- 02 - Qual foi o custo das Importações por Estado?\n",
    "- 03 - Qual foi o custo das Importações por Municípios?\n",
    "- 04 - Quais são os principais Remetentes das Importações?\n",
    "- 05 - Quais são os Produtos com Maiores Importações?"
   ]
  },
  {
   "cell_type": "markdown",
   "id": "2f532aff",
   "metadata": {},
   "source": [
    "### Importando Bibliotecas e Pacotes"
   ]
  },
  {
   "cell_type": "code",
   "execution_count": 1,
   "id": "714e4504",
   "metadata": {},
   "outputs": [],
   "source": [
    "import numpy as np\n",
    "import pandas as pd\n",
    "import csv\n",
    "import json \n",
    "import matplotlib.pyplot as plt\n",
    "import seaborn as sns\n",
    "from matplotlib import cm\n",
    "from sklearn.feature_extraction.text import CountVectorizer\n",
    "import sqlite3"
   ]
  },
  {
   "cell_type": "code",
   "execution_count": null,
   "id": "08293522",
   "metadata": {},
   "outputs": [],
   "source": [
    "# Caso seja necessário faço uma conversão do arquivo tipo csv para json \n",
    "base = {}\n",
    "with open(\"produtos.csv\",\"r\", encoding='utf-8') as csvfile:\n",
    "    csvReader = csv.DictReader(csvfile)\n",
    "    for read in csvReader:\n",
    "        key = read['CO_CUCI']\n",
    "        base[key] = read['NO_CUCI_GRUPO']\n",
    "with open (\"produtos.json\", 'w', encoding='utf-8') as jsonfile:\n",
    "    jsonfile.write(json.dumps(base, indent=4))"
   ]
  },
  {
   "cell_type": "code",
   "execution_count": 2,
   "id": "366c2a73",
   "metadata": {},
   "outputs": [],
   "source": [
    "# Realizando a leitura dos arquivos já convertidos e carregando em uma variável\n",
    "with open(\"meses.json\", \"r\") as jsonMes:\n",
    "    meses = json.loads(jsonMes.read())\n",
    "with open(\"produtos.json\", \"r\") as jsonProdutos:\n",
    "    produtos = json.loads(jsonProdutos.read())\n",
    "with open(\"paises.json\", \"r\") as jsonPais:\n",
    "    paises = json.loads(jsonPais.read())\n",
    "with open(\"estados.json\", \"r\") as jsonEstados:\n",
    "    estados = json.loads(jsonEstados.read())\n",
    "with open(\"municipios.json\", \"r\") as jsonMun:\n",
    "    municipios = json.loads(jsonMun.read())"
   ]
  },
  {
   "cell_type": "markdown",
   "id": "67c12fe2",
   "metadata": {},
   "source": [
    "### Acessando os dados referentes a 2021"
   ]
  },
  {
   "cell_type": "code",
   "execution_count": 3,
   "id": "2319ad13",
   "metadata": {},
   "outputs": [
    {
     "name": "stderr",
     "output_type": "stream",
     "text": [
      "C:\\ProgramData\\Anaconda3\\lib\\site-packages\\IPython\\core\\interactiveshell.py:3444: DtypeWarning: Columns (0,1,2,3,5,6,7) have mixed types.Specify dtype option on import or set low_memory=False.\n",
      "  exec(code_obj, self.user_global_ns, self.user_ns)\n"
     ]
    },
    {
     "name": "stdout",
     "output_type": "stream",
     "text": [
      "<class 'pandas.core.frame.DataFrame'>\n",
      "RangeIndex: 1556170 entries, 0 to 1556169\n",
      "Data columns (total 8 columns):\n",
      " #   Column           Non-Null Count    Dtype \n",
      "---  ------           --------------    ----- \n",
      " 0   Ano              1556170 non-null  object\n",
      " 1   Mês              1556170 non-null  object\n",
      " 2   Produtos         1556170 non-null  object\n",
      " 3   País(orig)       1556170 non-null  object\n",
      " 4   Estado(dest)     1556170 non-null  object\n",
      " 5   Município(dest)  1556170 non-null  object\n",
      " 6   KG_Liq           1556170 non-null  object\n",
      " 7   Total_em_Dólar   1556170 non-null  object\n",
      "dtypes: object(8)\n",
      "memory usage: 95.0+ MB\n"
     ]
    }
   ],
   "source": [
    "#(0) Faço a importação do arquivo csv a ser analisado, (1) crio um DataFrame(df) renomeando as colunas já existentes (2)e visualizo o início.\n",
    "imp_21 = \"IMP_2021_MUN.csv\"\n",
    "dfi21 = pd.read_csv(imp_21, names = ['Ano', 'Mês', 'Produtos', 'País(orig)', 'Estado(dest)', 'Município(dest)', 'KG_Liq', 'Total_em_Dólar'], sep = ';', encoding=\"utf-8-sig\", low_memory=True)\n",
    "dfi21.info()"
   ]
  },
  {
   "cell_type": "code",
   "execution_count": 4,
   "id": "4a0f0df6",
   "metadata": {
    "scrolled": false
   },
   "outputs": [
    {
     "data": {
      "text/html": [
       "<div>\n",
       "<style scoped>\n",
       "    .dataframe tbody tr th:only-of-type {\n",
       "        vertical-align: middle;\n",
       "    }\n",
       "\n",
       "    .dataframe tbody tr th {\n",
       "        vertical-align: top;\n",
       "    }\n",
       "\n",
       "    .dataframe thead th {\n",
       "        text-align: right;\n",
       "    }\n",
       "</style>\n",
       "<table border=\"1\" class=\"dataframe\">\n",
       "  <thead>\n",
       "    <tr style=\"text-align: right;\">\n",
       "      <th></th>\n",
       "      <th>Mês</th>\n",
       "      <th>Produtos</th>\n",
       "      <th>País(orig)</th>\n",
       "      <th>Estado(dest)</th>\n",
       "      <th>Município(dest)</th>\n",
       "      <th>KG_Liq</th>\n",
       "      <th>Total_em_Dólar</th>\n",
       "    </tr>\n",
       "  </thead>\n",
       "  <tbody>\n",
       "    <tr>\n",
       "      <th>65541</th>\n",
       "      <td>1</td>\n",
       "      <td>8512</td>\n",
       "      <td>827</td>\n",
       "      <td>SP</td>\n",
       "      <td>3448708</td>\n",
       "      <td>335</td>\n",
       "      <td>14133</td>\n",
       "    </tr>\n",
       "    <tr>\n",
       "      <th>65543</th>\n",
       "      <td>1</td>\n",
       "      <td>8443</td>\n",
       "      <td>858</td>\n",
       "      <td>SP</td>\n",
       "      <td>3420509</td>\n",
       "      <td>8</td>\n",
       "      <td>2070</td>\n",
       "    </tr>\n",
       "  </tbody>\n",
       "</table>\n",
       "</div>"
      ],
      "text/plain": [
       "      Mês Produtos País(orig) Estado(dest) Município(dest) KG_Liq  \\\n",
       "65541   1     8512        827           SP         3448708    335   \n",
       "65543   1     8443        858           SP         3420509      8   \n",
       "\n",
       "      Total_em_Dólar  \n",
       "65541          14133  \n",
       "65543           2070  "
      ]
     },
     "execution_count": 4,
     "metadata": {},
     "output_type": "execute_result"
    }
   ],
   "source": [
    "#(3)Com a função drop removo a coluna \"ano\" (4)e a linha \"0\".\n",
    "dfi21.drop([\"Ano\"], axis=1, inplace=True)\n",
    "dfi21.drop([0], inplace=True)\n",
    "\n",
    "#(5)Seleciono o período a ser analisado com a função loc (Jan,Fev,Mar) \n",
    "dfi21 = dfi21.loc[dfi21['Mês'].isin([1,2,3])]\n",
    "\n",
    "#(6)Por fim faço a remoção de duplicatas (7)e valores NA\n",
    "dfi21 = dfi21.drop_duplicates()\n",
    "dfi21 = dfi21.dropna()\n",
    "\n",
    "#(8)Coleto algumas informações sobre meu df\n",
    "dfi21.head(2)"
   ]
  },
  {
   "cell_type": "code",
   "execution_count": 5,
   "id": "45a37f34",
   "metadata": {},
   "outputs": [],
   "source": [
    "#(9)Altero o tipo de dados das colunas para utilização com o map \n",
    "dfi21[\"Mês\"] = dfi21[\"Mês\"].astype('string')\n",
    "#dfi21[\"Produtos\"] = dfi21[\"Produtos\"].astype('string')\n",
    "dfi21[\"País(orig)\"] = dfi21[\"País(orig)\"].astype('string')\n",
    "dfi21[\"Estado(dest)\"] = dfi21[\"Estado(dest)\"].astype('string')\n",
    "dfi21[\"Município(dest)\"] = dfi21[\"Município(dest)\"].astype('string')\n",
    "\n",
    "#(10)Renomeio todos os dados das 4 colunas abaixo utilizando a função map\n",
    "dfi21[\"Mês\"] = dfi21[\"Mês\"].map(meses)\n",
    "#dfi21[\"Produtos\"] = dfi21[\"Produtos\"].map(produtos)\n",
    "dfi21[\"País(orig)\"] = dfi21[\"País(orig)\"].map(paises)\n",
    "dfi21[\"Estado(dest)\"] = dfi21[\"Estado(dest)\"].map(estados)\n",
    "dfi21[\"Município(dest)\"] = dfi21[\"Município(dest)\"].map(municipios)"
   ]
  },
  {
   "cell_type": "code",
   "execution_count": 6,
   "id": "2c59b28a",
   "metadata": {
    "scrolled": false
   },
   "outputs": [
    {
     "data": {
      "text/html": [
       "<div>\n",
       "<style scoped>\n",
       "    .dataframe tbody tr th:only-of-type {\n",
       "        vertical-align: middle;\n",
       "    }\n",
       "\n",
       "    .dataframe tbody tr th {\n",
       "        vertical-align: top;\n",
       "    }\n",
       "\n",
       "    .dataframe thead th {\n",
       "        text-align: right;\n",
       "    }\n",
       "</style>\n",
       "<table border=\"1\" class=\"dataframe\">\n",
       "  <thead>\n",
       "    <tr style=\"text-align: right;\">\n",
       "      <th></th>\n",
       "      <th>Mês</th>\n",
       "      <th>Produtos</th>\n",
       "      <th>País(orig)</th>\n",
       "      <th>Estado(dest)</th>\n",
       "      <th>Município(dest)</th>\n",
       "      <th>KG_Liq</th>\n",
       "      <th>Total_em_Dólar</th>\n",
       "    </tr>\n",
       "  </thead>\n",
       "  <tbody>\n",
       "    <tr>\n",
       "      <th>65541</th>\n",
       "      <td>Janeiro</td>\n",
       "      <td>8512</td>\n",
       "      <td>Turquia</td>\n",
       "      <td>São Paulo</td>\n",
       "      <td>São Bernardo do Campo</td>\n",
       "      <td>335</td>\n",
       "      <td>14133</td>\n",
       "    </tr>\n",
       "    <tr>\n",
       "      <th>65543</th>\n",
       "      <td>Janeiro</td>\n",
       "      <td>8443</td>\n",
       "      <td>Vietnã</td>\n",
       "      <td>São Paulo</td>\n",
       "      <td>Indaiatuba</td>\n",
       "      <td>8</td>\n",
       "      <td>2070</td>\n",
       "    </tr>\n",
       "    <tr>\n",
       "      <th>65546</th>\n",
       "      <td>Março</td>\n",
       "      <td>6109</td>\n",
       "      <td>Portugal</td>\n",
       "      <td>São Paulo</td>\n",
       "      <td>Embu</td>\n",
       "      <td>92</td>\n",
       "      <td>7370</td>\n",
       "    </tr>\n",
       "    <tr>\n",
       "      <th>65547</th>\n",
       "      <td>Fevereiro</td>\n",
       "      <td>3206</td>\n",
       "      <td>Estados Unidos</td>\n",
       "      <td>São Paulo</td>\n",
       "      <td>Cajamar</td>\n",
       "      <td>19000</td>\n",
       "      <td>31798</td>\n",
       "    </tr>\n",
       "    <tr>\n",
       "      <th>65548</th>\n",
       "      <td>Fevereiro</td>\n",
       "      <td>8538</td>\n",
       "      <td>Tailândia</td>\n",
       "      <td>Paraná</td>\n",
       "      <td>Irati</td>\n",
       "      <td>971</td>\n",
       "      <td>14577</td>\n",
       "    </tr>\n",
       "  </tbody>\n",
       "</table>\n",
       "</div>"
      ],
      "text/plain": [
       "             Mês Produtos      País(orig) Estado(dest)        Município(dest)  \\\n",
       "65541    Janeiro     8512         Turquia    São Paulo  São Bernardo do Campo   \n",
       "65543    Janeiro     8443          Vietnã    São Paulo             Indaiatuba   \n",
       "65546      Março     6109        Portugal    São Paulo                   Embu   \n",
       "65547  Fevereiro     3206  Estados Unidos    São Paulo                Cajamar   \n",
       "65548  Fevereiro     8538       Tailândia       Paraná                  Irati   \n",
       "\n",
       "      KG_Liq Total_em_Dólar  \n",
       "65541    335          14133  \n",
       "65543      8           2070  \n",
       "65546     92           7370  \n",
       "65547  19000          31798  \n",
       "65548    971          14577  "
      ]
     },
     "execution_count": 6,
     "metadata": {},
     "output_type": "execute_result"
    }
   ],
   "source": [
    "#(11)Confirmo as alterações\n",
    "dfi21.head()"
   ]
  },
  {
   "cell_type": "markdown",
   "id": "810bf590",
   "metadata": {},
   "source": [
    "### Acessando os dados referentes a 2022"
   ]
  },
  {
   "cell_type": "code",
   "execution_count": 7,
   "id": "5b6b7eb7",
   "metadata": {
    "scrolled": false
   },
   "outputs": [
    {
     "name": "stderr",
     "output_type": "stream",
     "text": [
      "C:\\ProgramData\\Anaconda3\\lib\\site-packages\\IPython\\core\\interactiveshell.py:3444: DtypeWarning: Columns (0,1,2,3,5,6,7) have mixed types.Specify dtype option on import or set low_memory=False.\n",
      "  exec(code_obj, self.user_global_ns, self.user_ns)\n"
     ]
    },
    {
     "name": "stdout",
     "output_type": "stream",
     "text": [
      "<class 'pandas.core.frame.DataFrame'>\n",
      "RangeIndex: 630795 entries, 0 to 630794\n",
      "Data columns (total 8 columns):\n",
      " #   Column           Non-Null Count   Dtype \n",
      "---  ------           --------------   ----- \n",
      " 0   Ano              630795 non-null  object\n",
      " 1   Mês              630795 non-null  object\n",
      " 2   Produtos         630795 non-null  object\n",
      " 3   País(orig)       630795 non-null  object\n",
      " 4   Estado(dest)     630795 non-null  object\n",
      " 5   Município(dest)  630795 non-null  object\n",
      " 6   KG_Liq           630795 non-null  object\n",
      " 7   Total_em_Dólar   630795 non-null  object\n",
      "dtypes: object(8)\n",
      "memory usage: 38.5+ MB\n"
     ]
    }
   ],
   "source": [
    "#(0),(1),(2)\n",
    "imp_22 = \"IMP_2022_MUN.csv\"\n",
    "dfi22 = pd.read_csv(imp_22, names = ['Ano', 'Mês', 'Produtos', 'País(orig)', 'Estado(dest)', 'Município(dest)', 'KG_Liq', 'Total_em_Dólar'], sep = ';', encoding=\"utf-8-sig\", low_memory=True)\n",
    "dfi22.info()"
   ]
  },
  {
   "cell_type": "code",
   "execution_count": 8,
   "id": "61a7a669",
   "metadata": {},
   "outputs": [
    {
     "data": {
      "text/html": [
       "<div>\n",
       "<style scoped>\n",
       "    .dataframe tbody tr th:only-of-type {\n",
       "        vertical-align: middle;\n",
       "    }\n",
       "\n",
       "    .dataframe tbody tr th {\n",
       "        vertical-align: top;\n",
       "    }\n",
       "\n",
       "    .dataframe thead th {\n",
       "        text-align: right;\n",
       "    }\n",
       "</style>\n",
       "<table border=\"1\" class=\"dataframe\">\n",
       "  <thead>\n",
       "    <tr style=\"text-align: right;\">\n",
       "      <th></th>\n",
       "      <th>Mês</th>\n",
       "      <th>Produtos</th>\n",
       "      <th>País(orig)</th>\n",
       "      <th>Estado(dest)</th>\n",
       "      <th>Município(dest)</th>\n",
       "      <th>KG_Liq</th>\n",
       "      <th>Total_em_Dólar</th>\n",
       "    </tr>\n",
       "  </thead>\n",
       "  <tbody>\n",
       "    <tr>\n",
       "      <th>65537</th>\n",
       "      <td>2</td>\n",
       "      <td>7312</td>\n",
       "      <td>820</td>\n",
       "      <td>SC</td>\n",
       "      <td>4209102</td>\n",
       "      <td>106476</td>\n",
       "      <td>115526</td>\n",
       "    </tr>\n",
       "    <tr>\n",
       "      <th>65538</th>\n",
       "      <td>1</td>\n",
       "      <td>1901</td>\n",
       "      <td>87</td>\n",
       "      <td>SP</td>\n",
       "      <td>3418800</td>\n",
       "      <td>1345</td>\n",
       "      <td>4478</td>\n",
       "    </tr>\n",
       "  </tbody>\n",
       "</table>\n",
       "</div>"
      ],
      "text/plain": [
       "      Mês Produtos País(orig) Estado(dest) Município(dest)  KG_Liq  \\\n",
       "65537   2     7312        820           SC         4209102  106476   \n",
       "65538   1     1901         87           SP         3418800    1345   \n",
       "\n",
       "      Total_em_Dólar  \n",
       "65537         115526  \n",
       "65538           4478  "
      ]
     },
     "execution_count": 8,
     "metadata": {},
     "output_type": "execute_result"
    }
   ],
   "source": [
    "#(3),(4)\n",
    "dfi22.drop([\"Ano\"], axis=1, inplace=True)\n",
    "dfi22.drop([0], inplace=True)\n",
    "\n",
    "#(5)\n",
    "dfi22 = dfi22.loc[dfi22['Mês'].isin([1,2,3])]\n",
    "\n",
    "#(6),(7)\n",
    "dfi22 = dfi22.drop_duplicates()\n",
    "dfi22 = dfi22.dropna()\n",
    "\n",
    "#(8)\n",
    "dfi22.head(2)"
   ]
  },
  {
   "cell_type": "code",
   "execution_count": 9,
   "id": "f8efdf05",
   "metadata": {},
   "outputs": [],
   "source": [
    "#(9)\n",
    "dfi22[\"Mês\"] = dfi22[\"Mês\"].astype('string')\n",
    "#dfi21[\"Produtos\"] = dfi22[\"Produtos\"].astype('string')\n",
    "dfi22[\"País(orig)\"] = dfi22[\"País(orig)\"].astype('string')\n",
    "dfi22[\"Estado(dest)\"] = dfi22[\"Estado(dest)\"].astype('string')\n",
    "dfi22[\"Município(dest)\"] = dfi22[\"Município(dest)\"].astype('string')\n",
    "\n",
    "#(10)\n",
    "dfi22[\"Mês\"] = dfi22[\"Mês\"].map(meses)\n",
    "#dfi22[\"Produtos\"] = dfi22[\"Produtos\"].map(produtos)\n",
    "dfi22[\"País(orig)\"] = dfi22[\"País(orig)\"].map(paises)\n",
    "dfi22[\"Estado(dest)\"] = dfi22[\"Estado(dest)\"].map(estados)\n",
    "dfi22[\"Município(dest)\"] = dfi22[\"Município(dest)\"].map(municipios)"
   ]
  },
  {
   "cell_type": "code",
   "execution_count": 10,
   "id": "1f1270e0",
   "metadata": {
    "scrolled": true
   },
   "outputs": [
    {
     "data": {
      "text/html": [
       "<div>\n",
       "<style scoped>\n",
       "    .dataframe tbody tr th:only-of-type {\n",
       "        vertical-align: middle;\n",
       "    }\n",
       "\n",
       "    .dataframe tbody tr th {\n",
       "        vertical-align: top;\n",
       "    }\n",
       "\n",
       "    .dataframe thead th {\n",
       "        text-align: right;\n",
       "    }\n",
       "</style>\n",
       "<table border=\"1\" class=\"dataframe\">\n",
       "  <thead>\n",
       "    <tr style=\"text-align: right;\">\n",
       "      <th></th>\n",
       "      <th>Mês</th>\n",
       "      <th>Produtos</th>\n",
       "      <th>País(orig)</th>\n",
       "      <th>Estado(dest)</th>\n",
       "      <th>Município(dest)</th>\n",
       "      <th>KG_Liq</th>\n",
       "      <th>Total_em_Dólar</th>\n",
       "    </tr>\n",
       "  </thead>\n",
       "  <tbody>\n",
       "    <tr>\n",
       "      <th>65537</th>\n",
       "      <td>Fevereiro</td>\n",
       "      <td>7312</td>\n",
       "      <td>Tunísia</td>\n",
       "      <td>Santa Catarina</td>\n",
       "      <td>Joinville</td>\n",
       "      <td>106476</td>\n",
       "      <td>115526</td>\n",
       "    </tr>\n",
       "    <tr>\n",
       "      <th>65538</th>\n",
       "      <td>Janeiro</td>\n",
       "      <td>1901</td>\n",
       "      <td>NaN</td>\n",
       "      <td>São Paulo</td>\n",
       "      <td>Guarulhos</td>\n",
       "      <td>1345</td>\n",
       "      <td>4478</td>\n",
       "    </tr>\n",
       "    <tr>\n",
       "      <th>65540</th>\n",
       "      <td>Fevereiro</td>\n",
       "      <td>6006</td>\n",
       "      <td>Peru</td>\n",
       "      <td>São Paulo</td>\n",
       "      <td>São Paulo</td>\n",
       "      <td>1873</td>\n",
       "      <td>29319</td>\n",
       "    </tr>\n",
       "    <tr>\n",
       "      <th>65542</th>\n",
       "      <td>Fevereiro</td>\n",
       "      <td>3402</td>\n",
       "      <td>Reino Unido</td>\n",
       "      <td>Santa Catarina</td>\n",
       "      <td>Itajaí</td>\n",
       "      <td>240</td>\n",
       "      <td>2946</td>\n",
       "    </tr>\n",
       "    <tr>\n",
       "      <th>65543</th>\n",
       "      <td>Fevereiro</td>\n",
       "      <td>2710</td>\n",
       "      <td>França</td>\n",
       "      <td>São Paulo</td>\n",
       "      <td>Mauá</td>\n",
       "      <td>35460</td>\n",
       "      <td>43806</td>\n",
       "    </tr>\n",
       "  </tbody>\n",
       "</table>\n",
       "</div>"
      ],
      "text/plain": [
       "             Mês Produtos   País(orig)    Estado(dest) Município(dest)  \\\n",
       "65537  Fevereiro     7312      Tunísia  Santa Catarina       Joinville   \n",
       "65538    Janeiro     1901          NaN       São Paulo       Guarulhos   \n",
       "65540  Fevereiro     6006         Peru       São Paulo       São Paulo   \n",
       "65542  Fevereiro     3402  Reino Unido  Santa Catarina          Itajaí   \n",
       "65543  Fevereiro     2710       França       São Paulo            Mauá   \n",
       "\n",
       "       KG_Liq Total_em_Dólar  \n",
       "65537  106476         115526  \n",
       "65538    1345           4478  \n",
       "65540    1873          29319  \n",
       "65542     240           2946  \n",
       "65543   35460          43806  "
      ]
     },
     "execution_count": 10,
     "metadata": {},
     "output_type": "execute_result"
    }
   ],
   "source": [
    "#(11)\n",
    "dfi22.head()"
   ]
  },
  {
   "cell_type": "markdown",
   "id": "15e009d7",
   "metadata": {},
   "source": [
    "> Iniciando a Análise Exploratória"
   ]
  },
  {
   "cell_type": "markdown",
   "id": "095fc032",
   "metadata": {},
   "source": [
    "## Qual é o valor total das Importações no período?"
   ]
  },
  {
   "cell_type": "markdown",
   "id": "53f818fa",
   "metadata": {},
   "source": [
    "Informações sobre o custo das Importações (Comercio Exterior -> Brasil) e o total de operações."
   ]
  },
  {
   "cell_type": "code",
   "execution_count": 11,
   "id": "820d4a71",
   "metadata": {},
   "outputs": [],
   "source": [
    "# Calculando os valores das importações de 2021\n",
    "despesa_total21 = dfi21[\"Total_em_Dólar\"].sum()\n",
    "despesa_count21 = dfi21[\"Total_em_Dólar\"].count()\n",
    "despesa_media21 = dfi21[\"Total_em_Dólar\"].mean()"
   ]
  },
  {
   "cell_type": "code",
   "execution_count": 12,
   "id": "48f34aaf",
   "metadata": {},
   "outputs": [],
   "source": [
    "# Calculando os valores das importações 2022\n",
    "despesa_total22 = dfi22[\"Total_em_Dólar\"].sum()\n",
    "despesa_count22 = dfi22[\"Total_em_Dólar\"].count()\n",
    "despesa_media22 = dfi22[\"Total_em_Dólar\"].mean()"
   ]
  },
  {
   "cell_type": "code",
   "execution_count": 13,
   "id": "b8e779b8",
   "metadata": {},
   "outputs": [],
   "source": [
    "# Crio um dataframe utilizando o \"pandas\"\n",
    "dfi2122 = pd.DataFrame({\"Ano_Base\": [\"2021\", \"2022\"],\n",
    "                        \"Total de Transações\": (despesa_count21, despesa_count22),\n",
    "                        \"Total Investido em Importações\": (despesa_total21, despesa_total22),\n",
    "                        \"Valor médio das Importações\": (despesa_media21, despesa_media22)})"
   ]
  },
  {
   "cell_type": "code",
   "execution_count": 14,
   "id": "b384961c",
   "metadata": {
    "scrolled": true
   },
   "outputs": [],
   "source": [
    "# Edito a formatação numérica das colunas \n",
    "dfi2122 [\"Total de Transações\"] = dfi2122[\"Total de Transações\"].map(\"{:,.0f}\".format)\n",
    "dfi2122 [\"Total Investido em Importações\"] = dfi2122[\"Total Investido em Importações\"].map(\"${:,.2f}\".format)\n",
    "dfi2122 [\"Valor médio das Importações\"] = dfi2122[\"Valor médio das Importações\"].map(\"${:,.2f}\".format)"
   ]
  },
  {
   "cell_type": "code",
   "execution_count": 15,
   "id": "d091e4f1",
   "metadata": {
    "scrolled": true
   },
   "outputs": [
    {
     "data": {
      "text/html": [
       "<div>\n",
       "<style scoped>\n",
       "    .dataframe tbody tr th:only-of-type {\n",
       "        vertical-align: middle;\n",
       "    }\n",
       "\n",
       "    .dataframe tbody tr th {\n",
       "        vertical-align: top;\n",
       "    }\n",
       "\n",
       "    .dataframe thead th {\n",
       "        text-align: right;\n",
       "    }\n",
       "</style>\n",
       "<table border=\"1\" class=\"dataframe\">\n",
       "  <thead>\n",
       "    <tr style=\"text-align: right;\">\n",
       "      <th></th>\n",
       "      <th>Ano_Base</th>\n",
       "      <th>Total de Transações</th>\n",
       "      <th>Total Investido em Importações</th>\n",
       "      <th>Valor médio das Importações</th>\n",
       "    </tr>\n",
       "  </thead>\n",
       "  <tbody>\n",
       "    <tr>\n",
       "      <th>0</th>\n",
       "      <td>2021</td>\n",
       "      <td>367,305</td>\n",
       "      <td>$45,108,420,544.00</td>\n",
       "      <td>$122,809.17</td>\n",
       "    </tr>\n",
       "    <tr>\n",
       "      <th>1</th>\n",
       "      <td>2022</td>\n",
       "      <td>336,434</td>\n",
       "      <td>$53,837,816,631.00</td>\n",
       "      <td>$160,024.90</td>\n",
       "    </tr>\n",
       "  </tbody>\n",
       "</table>\n",
       "</div>"
      ],
      "text/plain": [
       "  Ano_Base Total de Transações Total Investido em Importações  \\\n",
       "0     2021             367,305             $45,108,420,544.00   \n",
       "1     2022             336,434             $53,837,816,631.00   \n",
       "\n",
       "  Valor médio das Importações  \n",
       "0                 $122,809.17  \n",
       "1                 $160,024.90  "
      ]
     },
     "execution_count": 15,
     "metadata": {},
     "output_type": "execute_result"
    }
   ],
   "source": [
    "dfi2122"
   ]
  },
  {
   "cell_type": "markdown",
   "id": "ae5fe4e4",
   "metadata": {},
   "source": [
    "## Qual foi o custo das Importações por Estado?"
   ]
  },
  {
   "cell_type": "markdown",
   "id": "ec062629",
   "metadata": {},
   "source": [
    "Faço um resumo do custo das Importações por Estado, comparando os dois periódos."
   ]
  },
  {
   "cell_type": "markdown",
   "id": "cab70795",
   "metadata": {},
   "source": [
    "### Ano 2021"
   ]
  },
  {
   "cell_type": "code",
   "execution_count": 16,
   "id": "2098f3fa",
   "metadata": {},
   "outputs": [
    {
     "name": "stderr",
     "output_type": "stream",
     "text": [
      "C:\\ProgramData\\Anaconda3\\lib\\site-packages\\IPython\\core\\interactiveshell.py:3444: FutureWarning: Dropping invalid columns in DataFrameGroupBy.mean is deprecated. In a future version, a TypeError will be raised. Before calling .mean, select only columns which should be valid for the function.\n",
      "  exec(code_obj, self.user_global_ns, self.user_ns)\n"
     ]
    }
   ],
   "source": [
    "# Agrupando Valores \n",
    "uf_total21 = dfi21.groupby([\"Estado(dest)\"]).sum()[\"Total_em_Dólar\"].rename(\"Valor total das Importações\")\n",
    "uf_media21 = dfi21.groupby([\"Estado(dest)\"]).mean()[\"Total_em_Dólar\"].rename(\"Valor médio das Importações\")\n",
    "uf_operacoes21 = dfi21.groupby([\"Estado(dest)\"]).count()[\"Total_em_Dólar\"].rename(\"Número de Transações\")\n"
   ]
  },
  {
   "cell_type": "code",
   "execution_count": 17,
   "id": "c097a9bf",
   "metadata": {},
   "outputs": [],
   "source": [
    "# Crio um DataFrame para armazenar os Valores agrupados\n",
    "uf_analises21 = pd.DataFrame({\"Número de Transações\" : uf_operacoes21,\n",
    "                              \"Valor médio das Importações\" : uf_media21,\n",
    "                              \"Valor total das Importações\" : uf_total21})"
   ]
  },
  {
   "cell_type": "code",
   "execution_count": 18,
   "id": "c92dd642",
   "metadata": {
    "scrolled": true
   },
   "outputs": [],
   "source": [
    "# Edito a formatação numérica dos dados\n",
    "uf_analises21 = uf_analises21.round(2)\n",
    "uf_analises21 [\"Valor médio das Importações\"] = uf_analises21[\"Valor médio das Importações\"].map(\"${:,.2f}\".format)\n",
    "uf_analises21 [\"Valor total das Importações\"] = uf_analises21[\"Valor total das Importações\"].map(\"${:,.2f}\".format)"
   ]
  },
  {
   "cell_type": "code",
   "execution_count": 19,
   "id": "4b700c02",
   "metadata": {},
   "outputs": [
    {
     "data": {
      "image/png": "[encoded data removed]",
      "text/plain": [
       "<Figure size 1440x864 with 1 Axes>"
      ]
     },
     "metadata": {
      "needs_background": "light"
     },
     "output_type": "display_data"
    }
   ],
   "source": [
    "plt.figure(figsize=(20,12))\n",
    "\n",
    "sns.barplot(y = uf_analises21[\"Valor total das Importações\"], x = uf_analises21[\"Número de Transações\"], orient=\"h\")\n",
    "plt.title(\"Total de Importações por Estado\")\n",
    "plt.xlabel(\"Número de Transações\")\n",
    "plt.ylabel(\"Valor total das Importações\")\n",
    "plt.show()"
   ]
  },
  {
   "cell_type": "markdown",
   "id": "79ad7cd7",
   "metadata": {},
   "source": [
    "### Ano 2022"
   ]
  },
  {
   "cell_type": "code",
   "execution_count": 20,
   "id": "a8fec7c8",
   "metadata": {},
   "outputs": [
    {
     "name": "stderr",
     "output_type": "stream",
     "text": [
      "C:\\ProgramData\\Anaconda3\\lib\\site-packages\\IPython\\core\\interactiveshell.py:3444: FutureWarning: Dropping invalid columns in DataFrameGroupBy.mean is deprecated. In a future version, a TypeError will be raised. Before calling .mean, select only columns which should be valid for the function.\n",
      "  exec(code_obj, self.user_global_ns, self.user_ns)\n"
     ]
    }
   ],
   "source": [
    "# Agrupando Valores \n",
    "uf_total22 = dfi22.groupby([\"Estado(dest)\"]).sum()[\"Total_em_Dólar\"].rename(\"Valor total das Importações\")\n",
    "uf_media22 = dfi22.groupby([\"Estado(dest)\"]).mean()[\"Total_em_Dólar\"].rename(\"Valor médio das Importações\")\n",
    "uf_operacoes22 = dfi22.groupby([\"Estado(dest)\"]).count()[\"Total_em_Dólar\"].rename(\"Número de Transações\")"
   ]
  },
  {
   "cell_type": "code",
   "execution_count": 21,
   "id": "fd3d7bc3",
   "metadata": {},
   "outputs": [],
   "source": [
    "# Crio um DataFrame para armazenar os Valores agrupados\n",
    "uf_analises22 = pd.DataFrame({\"Número de Transações\" : uf_operacoes22,\n",
    "                              \"Valor médio das Importações\" : uf_media22,\n",
    "                              \"Valor total das Importações\" : uf_total22})"
   ]
  },
  {
   "cell_type": "code",
   "execution_count": 22,
   "id": "ee8eabb3",
   "metadata": {},
   "outputs": [],
   "source": [
    "# Edito a formatação numérica dos dados\n",
    "uf_analises22 = uf_analises22.round(2)\n",
    "uf_analises22 [\"Valor médio das Importações\"] = uf_analises22[\"Valor médio das Importações\"].map(\"${:,.2f}\".format)\n",
    "uf_analises22 [\"Valor total das Importações\"] = uf_analises22[\"Valor total das Importações\"].map(\"${:,.2f}\".format)"
   ]
  },
  {
   "cell_type": "code",
   "execution_count": 23,
   "id": "d6fd6d4c",
   "metadata": {},
   "outputs": [
    {
     "data": {
      "image/png": "[encoded data removed]",
      "text/plain": [
       "<Figure size 1440x864 with 1 Axes>"
      ]
     },
     "metadata": {
      "needs_background": "light"
     },
     "output_type": "display_data"
    }
   ],
   "source": [
    "plt.figure(figsize=(20,12))\n",
    "\n",
    "sns.barplot(y = uf_analises22[\"Valor total das Importações\"], x = uf_analises22[\"Número de Transações\"], orient=\"h\", palette=\"terrain\")\n",
    "plt.title(\"Total de Importações por Estado\")\n",
    "plt.xlabel(\"Número de Transações\")\n",
    "plt.ylabel(\"Valor total das Importações\")\n",
    "plt.show()"
   ]
  },
  {
   "cell_type": "markdown",
   "id": "72277711",
   "metadata": {},
   "source": [
    "## Qual foi o custo das Importações por Municípios?"
   ]
  },
  {
   "cell_type": "markdown",
   "id": "dd316a7f",
   "metadata": {},
   "source": [
    "Detalhamento dos valores movimentados por Municípios no Período."
   ]
  },
  {
   "cell_type": "markdown",
   "id": "fe625762",
   "metadata": {},
   "source": [
    "### Ano 2021"
   ]
  },
  {
   "cell_type": "code",
   "execution_count": 24,
   "id": "cd5e29b0",
   "metadata": {},
   "outputs": [
    {
     "name": "stderr",
     "output_type": "stream",
     "text": [
      "C:\\ProgramData\\Anaconda3\\lib\\site-packages\\IPython\\core\\interactiveshell.py:3444: FutureWarning: Dropping invalid columns in DataFrameGroupBy.mean is deprecated. In a future version, a TypeError will be raised. Before calling .mean, select only columns which should be valid for the function.\n",
      "  exec(code_obj, self.user_global_ns, self.user_ns)\n"
     ]
    }
   ],
   "source": [
    "# Agrupando Valores\n",
    "mun_media21 = dfi21.groupby([\"Município(dest)\"]).mean()[\"Total_em_Dólar\"].rename(\"Valor médio das Importações\")\n",
    "mun_total21 = dfi21.groupby([\"Município(dest)\"]).sum()[\"Total_em_Dólar\"].rename(\"Valor total das Importações\")\n",
    "mun_count21 = dfi21.groupby([\"Município(dest)\"]).count()[\"Total_em_Dólar\"].rename(\"Número de Compras no Exterior\")"
   ]
  },
  {
   "cell_type": "code",
   "execution_count": 25,
   "id": "3d6896b1",
   "metadata": {},
   "outputs": [],
   "source": [
    "# Criando um DataFrame dos Municípios com os valores agrupados\n",
    "mun_analises21 = pd.DataFrame({\"Número de Compras no Exterior\" : mun_count21,\n",
    "                               \"Valor médio das Importações\" : mun_media21,\n",
    "                               \"Valor total das Importações\" : mun_total21})"
   ]
  },
  {
   "cell_type": "code",
   "execution_count": 26,
   "id": "90c09e22",
   "metadata": {},
   "outputs": [],
   "source": [
    "# Edito a formatação numérica dos dados\n",
    "mun_analises21 [\"Valor total das Importações\"] = mun_analises21[\"Valor total das Importações\"].map(\"${:,.2f}\".format)\n",
    "mun_analises21 [\"Valor médio das Importações\"] = mun_analises21[\"Valor médio das Importações\"].map(\"${:,.2f}\".format)"
   ]
  },
  {
   "cell_type": "code",
   "execution_count": 27,
   "id": "cdbfbf79",
   "metadata": {},
   "outputs": [
    {
     "data": {
      "text/html": [
       "<div>\n",
       "<style scoped>\n",
       "    .dataframe tbody tr th:only-of-type {\n",
       "        vertical-align: middle;\n",
       "    }\n",
       "\n",
       "    .dataframe tbody tr th {\n",
       "        vertical-align: top;\n",
       "    }\n",
       "\n",
       "    .dataframe thead th {\n",
       "        text-align: right;\n",
       "    }\n",
       "</style>\n",
       "<table border=\"1\" class=\"dataframe\">\n",
       "  <thead>\n",
       "    <tr style=\"text-align: right;\">\n",
       "      <th></th>\n",
       "      <th>Número de Compras no Exterior</th>\n",
       "      <th>Valor médio das Importações</th>\n",
       "      <th>Valor total das Importações</th>\n",
       "    </tr>\n",
       "    <tr>\n",
       "      <th>Município(dest)</th>\n",
       "      <th></th>\n",
       "      <th></th>\n",
       "      <th></th>\n",
       "    </tr>\n",
       "  </thead>\n",
       "  <tbody>\n",
       "    <tr>\n",
       "      <th>São Paulo</th>\n",
       "      <td>17325</td>\n",
       "      <td>$118,241.18</td>\n",
       "      <td>$2,048,528,516.00</td>\n",
       "    </tr>\n",
       "    <tr>\n",
       "      <th>Itajaí</th>\n",
       "      <td>9919</td>\n",
       "      <td>$255,114.40</td>\n",
       "      <td>$2,530,479,719.00</td>\n",
       "    </tr>\n",
       "    <tr>\n",
       "      <th>Rio de Janeiro</th>\n",
       "      <td>7968</td>\n",
       "      <td>$230,916.69</td>\n",
       "      <td>$1,839,944,148.00</td>\n",
       "    </tr>\n",
       "    <tr>\n",
       "      <th>Barueri</th>\n",
       "      <td>7205</td>\n",
       "      <td>$41,820.86</td>\n",
       "      <td>$301,319,326.00</td>\n",
       "    </tr>\n",
       "    <tr>\n",
       "      <th>Campinas</th>\n",
       "      <td>7099</td>\n",
       "      <td>$100,312.68</td>\n",
       "      <td>$712,119,734.00</td>\n",
       "    </tr>\n",
       "    <tr>\n",
       "      <th>Curitiba</th>\n",
       "      <td>6874</td>\n",
       "      <td>$105,906.94</td>\n",
       "      <td>$728,004,297.00</td>\n",
       "    </tr>\n",
       "    <tr>\n",
       "      <th>Guarulhos</th>\n",
       "      <td>6870</td>\n",
       "      <td>$80,994.99</td>\n",
       "      <td>$556,435,566.00</td>\n",
       "    </tr>\n",
       "    <tr>\n",
       "      <th>Sorocaba</th>\n",
       "      <td>6795</td>\n",
       "      <td>$83,222.24</td>\n",
       "      <td>$565,495,139.00</td>\n",
       "    </tr>\n",
       "    <tr>\n",
       "      <th>Manaus</th>\n",
       "      <td>6557</td>\n",
       "      <td>$439,026.86</td>\n",
       "      <td>$2,878,699,134.00</td>\n",
       "    </tr>\n",
       "    <tr>\n",
       "      <th>Jundiaí</th>\n",
       "      <td>6427</td>\n",
       "      <td>$117,210.81</td>\n",
       "      <td>$753,313,846.00</td>\n",
       "    </tr>\n",
       "  </tbody>\n",
       "</table>\n",
       "</div>"
      ],
      "text/plain": [
       "                 Número de Compras no Exterior Valor médio das Importações  \\\n",
       "Município(dest)                                                              \n",
       "São Paulo                                17325                 $118,241.18   \n",
       "Itajaí                                    9919                 $255,114.40   \n",
       "Rio de Janeiro                            7968                 $230,916.69   \n",
       "Barueri                                   7205                  $41,820.86   \n",
       "Campinas                                  7099                 $100,312.68   \n",
       "Curitiba                                  6874                 $105,906.94   \n",
       "Guarulhos                                 6870                  $80,994.99   \n",
       "Sorocaba                                  6795                  $83,222.24   \n",
       "Manaus                                    6557                 $439,026.86   \n",
       "Jundiaí                                   6427                 $117,210.81   \n",
       "\n",
       "                Valor total das Importações  \n",
       "Município(dest)                              \n",
       "São Paulo                 $2,048,528,516.00  \n",
       "Itajaí                    $2,530,479,719.00  \n",
       "Rio de Janeiro            $1,839,944,148.00  \n",
       "Barueri                     $301,319,326.00  \n",
       "Campinas                    $712,119,734.00  \n",
       "Curitiba                    $728,004,297.00  \n",
       "Guarulhos                   $556,435,566.00  \n",
       "Sorocaba                    $565,495,139.00  \n",
       "Manaus                    $2,878,699,134.00  \n",
       "Jundiaí                     $753,313,846.00  "
      ]
     },
     "execution_count": 27,
     "metadata": {},
     "output_type": "execute_result"
    }
   ],
   "source": [
    "mun_analises21.sort_values(\"Número de Compras no Exterior\", ascending=False).head(10)"
   ]
  },
  {
   "cell_type": "markdown",
   "id": "504beed6",
   "metadata": {},
   "source": [
    "### Ano 2022"
   ]
  },
  {
   "cell_type": "code",
   "execution_count": 28,
   "id": "d064dee3",
   "metadata": {},
   "outputs": [
    {
     "name": "stderr",
     "output_type": "stream",
     "text": [
      "C:\\ProgramData\\Anaconda3\\lib\\site-packages\\IPython\\core\\interactiveshell.py:3444: FutureWarning: Dropping invalid columns in DataFrameGroupBy.mean is deprecated. In a future version, a TypeError will be raised. Before calling .mean, select only columns which should be valid for the function.\n",
      "  exec(code_obj, self.user_global_ns, self.user_ns)\n"
     ]
    }
   ],
   "source": [
    "# Agrupando Valores\n",
    "mun_media22 = dfi22.groupby([\"Município(dest)\"]).mean()[\"Total_em_Dólar\"].rename(\"Valor médio das Importações\")\n",
    "mun_total22 = dfi22.groupby([\"Município(dest)\"]).sum()[\"Total_em_Dólar\"].rename(\"Valor total das Importações\")\n",
    "mun_count22 = dfi22.groupby([\"Município(dest)\"]).count()[\"Total_em_Dólar\"].rename(\"Número de Compras no Exterior\")\n"
   ]
  },
  {
   "cell_type": "code",
   "execution_count": 29,
   "id": "b63f2897",
   "metadata": {},
   "outputs": [],
   "source": [
    "# Criando um DataFrame dos Municípios com os valores agrupados\n",
    "mun_analises22 = pd.DataFrame({\"Número de Compras no Exterior\" : mun_count22,\n",
    "                               \"Valor médio das Importações\" : mun_media22,\n",
    "                               \"Valor total das Importações\" : mun_total22})"
   ]
  },
  {
   "cell_type": "code",
   "execution_count": 30,
   "id": "a0532301",
   "metadata": {},
   "outputs": [],
   "source": [
    "# Edito a formatação numérica dos dados\n",
    "mun_analises22 [\"Valor total das Importações\"] = mun_analises22[\"Valor total das Importações\"].map(\"${:,.2f}\".format)\n",
    "mun_analises22 [\"Valor médio das Importações\"] = mun_analises22[\"Valor médio das Importações\"].map(\"${:,.2f}\".format)"
   ]
  },
  {
   "cell_type": "code",
   "execution_count": 31,
   "id": "4e1a3231",
   "metadata": {},
   "outputs": [
    {
     "data": {
      "text/html": [
       "<div>\n",
       "<style scoped>\n",
       "    .dataframe tbody tr th:only-of-type {\n",
       "        vertical-align: middle;\n",
       "    }\n",
       "\n",
       "    .dataframe tbody tr th {\n",
       "        vertical-align: top;\n",
       "    }\n",
       "\n",
       "    .dataframe thead th {\n",
       "        text-align: right;\n",
       "    }\n",
       "</style>\n",
       "<table border=\"1\" class=\"dataframe\">\n",
       "  <thead>\n",
       "    <tr style=\"text-align: right;\">\n",
       "      <th></th>\n",
       "      <th>Número de Compras no Exterior</th>\n",
       "      <th>Valor médio das Importações</th>\n",
       "      <th>Valor total das Importações</th>\n",
       "    </tr>\n",
       "    <tr>\n",
       "      <th>Município(dest)</th>\n",
       "      <th></th>\n",
       "      <th></th>\n",
       "      <th></th>\n",
       "    </tr>\n",
       "  </thead>\n",
       "  <tbody>\n",
       "    <tr>\n",
       "      <th>São Paulo</th>\n",
       "      <td>15778</td>\n",
       "      <td>$117,751.07</td>\n",
       "      <td>$1,857,876,456.00</td>\n",
       "    </tr>\n",
       "    <tr>\n",
       "      <th>Itajaí</th>\n",
       "      <td>8956</td>\n",
       "      <td>$311,000.96</td>\n",
       "      <td>$2,785,324,562.00</td>\n",
       "    </tr>\n",
       "    <tr>\n",
       "      <th>Rio de Janeiro</th>\n",
       "      <td>7216</td>\n",
       "      <td>$374,570.53</td>\n",
       "      <td>$2,702,900,975.00</td>\n",
       "    </tr>\n",
       "    <tr>\n",
       "      <th>Barueri</th>\n",
       "      <td>6907</td>\n",
       "      <td>$53,528.54</td>\n",
       "      <td>$369,721,595.00</td>\n",
       "    </tr>\n",
       "    <tr>\n",
       "      <th>Campinas</th>\n",
       "      <td>6490</td>\n",
       "      <td>$104,788.01</td>\n",
       "      <td>$680,074,217.00</td>\n",
       "    </tr>\n",
       "    <tr>\n",
       "      <th>Sorocaba</th>\n",
       "      <td>6398</td>\n",
       "      <td>$114,587.94</td>\n",
       "      <td>$733,133,657.00</td>\n",
       "    </tr>\n",
       "    <tr>\n",
       "      <th>Curitiba</th>\n",
       "      <td>6360</td>\n",
       "      <td>$129,632.46</td>\n",
       "      <td>$824,462,436.00</td>\n",
       "    </tr>\n",
       "    <tr>\n",
       "      <th>Cajamar</th>\n",
       "      <td>6242</td>\n",
       "      <td>$26,580.24</td>\n",
       "      <td>$165,913,880.00</td>\n",
       "    </tr>\n",
       "    <tr>\n",
       "      <th>Guarulhos</th>\n",
       "      <td>6104</td>\n",
       "      <td>$90,852.37</td>\n",
       "      <td>$554,562,869.00</td>\n",
       "    </tr>\n",
       "    <tr>\n",
       "      <th>Jundiaí</th>\n",
       "      <td>6022</td>\n",
       "      <td>$142,893.74</td>\n",
       "      <td>$860,506,095.00</td>\n",
       "    </tr>\n",
       "  </tbody>\n",
       "</table>\n",
       "</div>"
      ],
      "text/plain": [
       "                 Número de Compras no Exterior Valor médio das Importações  \\\n",
       "Município(dest)                                                              \n",
       "São Paulo                                15778                 $117,751.07   \n",
       "Itajaí                                    8956                 $311,000.96   \n",
       "Rio de Janeiro                            7216                 $374,570.53   \n",
       "Barueri                                   6907                  $53,528.54   \n",
       "Campinas                                  6490                 $104,788.01   \n",
       "Sorocaba                                  6398                 $114,587.94   \n",
       "Curitiba                                  6360                 $129,632.46   \n",
       "Cajamar                                   6242                  $26,580.24   \n",
       "Guarulhos                                 6104                  $90,852.37   \n",
       "Jundiaí                                   6022                 $142,893.74   \n",
       "\n",
       "                Valor total das Importações  \n",
       "Município(dest)                              \n",
       "São Paulo                 $1,857,876,456.00  \n",
       "Itajaí                    $2,785,324,562.00  \n",
       "Rio de Janeiro            $2,702,900,975.00  \n",
       "Barueri                     $369,721,595.00  \n",
       "Campinas                    $680,074,217.00  \n",
       "Sorocaba                    $733,133,657.00  \n",
       "Curitiba                    $824,462,436.00  \n",
       "Cajamar                     $165,913,880.00  \n",
       "Guarulhos                   $554,562,869.00  \n",
       "Jundiaí                     $860,506,095.00  "
      ]
     },
     "execution_count": 31,
     "metadata": {},
     "output_type": "execute_result"
    }
   ],
   "source": [
    "mun_analises22.sort_values(\"Número de Compras no Exterior\", ascending=False).head(10)"
   ]
  },
  {
   "cell_type": "markdown",
   "id": "bb84a232",
   "metadata": {},
   "source": [
    "## Quais são os principais Remetentes das Importações?"
   ]
  },
  {
   "cell_type": "markdown",
   "id": "a89a6e2a",
   "metadata": {},
   "source": [
    "Busco identificar os principais Paises com maiores exportações para o Brasil durante o Período."
   ]
  },
  {
   "cell_type": "markdown",
   "id": "399ec7af",
   "metadata": {},
   "source": [
    "### Ano 2021"
   ]
  },
  {
   "cell_type": "code",
   "execution_count": 32,
   "id": "efb433c4",
   "metadata": {},
   "outputs": [],
   "source": [
    "model_21 = dfi21[\"País(orig)\"]\n",
    "model_21.index = range(1, 367306, 1)"
   ]
  },
  {
   "cell_type": "code",
   "execution_count": 33,
   "id": "b7da14d2",
   "metadata": {},
   "outputs": [
    {
     "data": {
      "text/plain": [
       "1                Turquia\n",
       "2                 Vietnã\n",
       "3               Portugal\n",
       "4         Estados Unidos\n",
       "5              Tailândia\n",
       "               ...      \n",
       "367301               NaN\n",
       "367302             China\n",
       "367303             China\n",
       "367304           Espanha\n",
       "367305    Estados Unidos\n",
       "Name: País(orig), Length: 367305, dtype: object"
      ]
     },
     "execution_count": 33,
     "metadata": {},
     "output_type": "execute_result"
    }
   ],
   "source": [
    "model_21"
   ]
  },
  {
   "cell_type": "code",
   "execution_count": 34,
   "id": "84582af4",
   "metadata": {},
   "outputs": [],
   "source": [
    "pais_21 = [str(i) for i in model_21]"
   ]
  },
  {
   "cell_type": "code",
   "execution_count": 35,
   "id": "acce34c4",
   "metadata": {},
   "outputs": [],
   "source": [
    "# Criando um vetor\n",
    "vetor_pais21 = CountVectorizer(analyzer = 'word', lowercase=False)"
   ]
  },
  {
   "cell_type": "code",
   "execution_count": 36,
   "id": "40040098",
   "metadata": {},
   "outputs": [],
   "source": [
    "# Vetorizando o dataset\n",
    "paises21 = vetor_pais21.fit_transform(pais_21)"
   ]
  },
  {
   "cell_type": "code",
   "execution_count": 37,
   "id": "018be1c1",
   "metadata": {},
   "outputs": [],
   "source": [
    "# Retornando paises únicos\n",
    "paises_unicos21 = vetor_pais21.get_feature_names()"
   ]
  },
  {
   "cell_type": "code",
   "execution_count": 38,
   "id": "3dc6a186",
   "metadata": {
    "scrolled": true
   },
   "outputs": [],
   "source": [
    "# Criar um novo DataFrame dos Paises\n",
    "dfpaises21 = pd.DataFrame(paises21.todense(), columns = paises_unicos21, index = model_21.index)"
   ]
  },
  {
   "cell_type": "code",
   "execution_count": 44,
   "id": "57c5657b",
   "metadata": {},
   "outputs": [],
   "source": [
    "# Calcular o percentual \n",
    "percent_pais21 = 100 * pd.Series(dfpaises21.sum()).sort_values(ascending = False) / dfpaises21.shape[0]"
   ]
  },
  {
   "cell_type": "code",
   "execution_count": 45,
   "id": "5fb9755b",
   "metadata": {
    "scrolled": true
   },
   "outputs": [
    {
     "data": {
      "text/plain": [
       "China      17.774057\n",
       "nan        13.998993\n",
       "Unidos     11.443623\n",
       "Estados    11.382366\n",
       "Itália      6.128422\n",
       "dtype: float64"
      ]
     },
     "execution_count": 45,
     "metadata": {},
     "output_type": "execute_result"
    }
   ],
   "source": [
    "# Um head dos 5 primeiros \n",
    "percent_pais21.head()"
   ]
  },
  {
   "cell_type": "markdown",
   "id": "acc4ac46",
   "metadata": {},
   "source": [
    "### Ano 2022"
   ]
  },
  {
   "cell_type": "code",
   "execution_count": 46,
   "id": "c9ee19b2",
   "metadata": {},
   "outputs": [],
   "source": [
    "model_22 = dfi22[\"País(orig)\"]\n",
    "model_22.index = range(1, 336435, 1)"
   ]
  },
  {
   "cell_type": "code",
   "execution_count": 47,
   "id": "7930f15d",
   "metadata": {},
   "outputs": [
    {
     "data": {
      "text/plain": [
       "1                Tunísia\n",
       "2                    NaN\n",
       "3                   Peru\n",
       "4            Reino Unido\n",
       "5                 França\n",
       "               ...      \n",
       "336430           Malásia\n",
       "336431            Vietnã\n",
       "336432    Estados Unidos\n",
       "336433    Estados Unidos\n",
       "336434             China\n",
       "Name: País(orig), Length: 336434, dtype: object"
      ]
     },
     "execution_count": 47,
     "metadata": {},
     "output_type": "execute_result"
    }
   ],
   "source": [
    "model_22"
   ]
  },
  {
   "cell_type": "code",
   "execution_count": 48,
   "id": "fc7339b0",
   "metadata": {},
   "outputs": [],
   "source": [
    "pais_22 = [str(i) for i in model_22]"
   ]
  },
  {
   "cell_type": "code",
   "execution_count": 49,
   "id": "efb49118",
   "metadata": {},
   "outputs": [],
   "source": [
    "# Criando um vetor\n",
    "vetor_pais22 = CountVectorizer(analyzer = 'word', lowercase=False)"
   ]
  },
  {
   "cell_type": "code",
   "execution_count": 50,
   "id": "fbb3a944",
   "metadata": {},
   "outputs": [],
   "source": [
    "# Vetorizando o dataset\n",
    "paises22 = vetor_pais22.fit_transform(pais_22)"
   ]
  },
  {
   "cell_type": "code",
   "execution_count": 51,
   "id": "fe52ee3f",
   "metadata": {},
   "outputs": [],
   "source": [
    "# Retornando paises únicos\n",
    "paises_unicos22 = vetor_pais22.get_feature_names()"
   ]
  },
  {
   "cell_type": "code",
   "execution_count": 56,
   "id": "28c9a3af",
   "metadata": {},
   "outputs": [],
   "source": [
    "# Criar um novo DataFrame dos Paises\n",
    "dfpaises22 = pd.DataFrame(paises22.todense(), columns = paises_unicos22, index = model_22.index)"
   ]
  },
  {
   "cell_type": "code",
   "execution_count": 57,
   "id": "dbaaa170",
   "metadata": {},
   "outputs": [],
   "source": [
    "# Calcular o percentual \n",
    "percent_pais22 = 100 * pd.Series(dfpaises22.sum()).sort_values(ascending = False) / dfpaises22.shape[0]"
   ]
  },
  {
   "cell_type": "code",
   "execution_count": 58,
   "id": "7a5e9cdf",
   "metadata": {
    "scrolled": true
   },
   "outputs": [
    {
     "data": {
      "text/plain": [
       "China      17.947948\n",
       "nan        13.840159\n",
       "Unidos     11.511916\n",
       "Estados    11.441471\n",
       "Itália      6.122746\n",
       "dtype: float64"
      ]
     },
     "execution_count": 58,
     "metadata": {},
     "output_type": "execute_result"
    }
   ],
   "source": [
    "# Um head dos 5 primeiros \n",
    "percent_pais22.head(5)"
   ]
  },
  {
   "cell_type": "markdown",
   "id": "8c814970",
   "metadata": {},
   "source": [
    "## Quais são os Produtos com Maiores Importações?"
   ]
  },
  {
   "cell_type": "markdown",
   "id": "9b3eff41",
   "metadata": {},
   "source": [
    "Abaixo localizo os produtos mais requisitados por importadoras no Mercado Exterior."
   ]
  },
  {
   "cell_type": "code",
   "execution_count": 8,
   "id": "2aa67d9f",
   "metadata": {},
   "outputs": [],
   "source": [
    "# Altero o tipo dos dados\n",
    "produtos21 = dfi21[\"Produtos\"].astype(\"string\")\n",
    "paises21 = dfi21[\"País(orig)\"].astype(\"string\")\n",
    "total21 = dfi21[\"Total_em_Dólar\"].astype(\"string\")\n",
    "\n",
    "# Crio um DataFrame com os dados alterados\n",
    "produtos = pd.DataFrame({\"itens\" : produtos21, \"paises\" : paises21, \"total\" : total21})"
   ]
  },
  {
   "cell_type": "code",
   "execution_count": 9,
   "id": "00212442",
   "metadata": {},
   "outputs": [],
   "source": [
    "# Criar a tabela para o DB\n",
    "query_produto = \"\"\"CREATE TABLE IF NOT EXISTS Produtos (itens VARCHAR(50), \n",
    "                                                        paises VARCHAR(50),\n",
    "                                                        total REAL);\"\"\""
   ]
  },
  {
   "cell_type": "code",
   "execution_count": 11,
   "id": "8e726190",
   "metadata": {},
   "outputs": [
    {
     "data": {
      "text/plain": [
       "<sqlite3.Cursor at 0x19f38bab8f0>"
      ]
     },
     "execution_count": 11,
     "metadata": {},
     "output_type": "execute_result"
    }
   ],
   "source": [
    "# Conecto ao DB\n",
    "conection=sqlite3.connect('produtos_importados.db')\n",
    "con = conection.cursor()\n",
    "con.execute(query_produto)"
   ]
  },
  {
   "cell_type": "code",
   "execution_count": 14,
   "id": "9dd21aea",
   "metadata": {
    "scrolled": true
   },
   "outputs": [],
   "source": [
    "# Insiro os dados do DF no DB\n",
    "produtos.to_sql(name=\"produtos21\", con=conection, if_exists = \"append\", index = False)"
   ]
  },
  {
   "cell_type": "code",
   "execution_count": 44,
   "id": "ed40b558",
   "metadata": {
    "scrolled": true
   },
   "outputs": [
    {
     "data": {
      "text/html": [
       "<div>\n",
       "<style scoped>\n",
       "    .dataframe tbody tr th:only-of-type {\n",
       "        vertical-align: middle;\n",
       "    }\n",
       "\n",
       "    .dataframe tbody tr th {\n",
       "        vertical-align: top;\n",
       "    }\n",
       "\n",
       "    .dataframe thead th {\n",
       "        text-align: right;\n",
       "    }\n",
       "</style>\n",
       "<table border=\"1\" class=\"dataframe\">\n",
       "  <thead>\n",
       "    <tr style=\"text-align: right;\">\n",
       "      <th></th>\n",
       "      <th>itens</th>\n",
       "    </tr>\n",
       "  </thead>\n",
       "  <tbody>\n",
       "    <tr>\n",
       "      <th>0</th>\n",
       "      <td>8512</td>\n",
       "    </tr>\n",
       "    <tr>\n",
       "      <th>1</th>\n",
       "      <td>8443</td>\n",
       "    </tr>\n",
       "    <tr>\n",
       "      <th>2</th>\n",
       "      <td>6109</td>\n",
       "    </tr>\n",
       "    <tr>\n",
       "      <th>3</th>\n",
       "      <td>3206</td>\n",
       "    </tr>\n",
       "    <tr>\n",
       "      <th>4</th>\n",
       "      <td>8538</td>\n",
       "    </tr>\n",
       "    <tr>\n",
       "      <th>5</th>\n",
       "      <td>7312</td>\n",
       "    </tr>\n",
       "    <tr>\n",
       "      <th>6</th>\n",
       "      <td>7304</td>\n",
       "    </tr>\n",
       "    <tr>\n",
       "      <th>7</th>\n",
       "      <td>9615</td>\n",
       "    </tr>\n",
       "    <tr>\n",
       "      <th>8</th>\n",
       "      <td>2840</td>\n",
       "    </tr>\n",
       "    <tr>\n",
       "      <th>9</th>\n",
       "      <td>8482</td>\n",
       "    </tr>\n",
       "  </tbody>\n",
       "</table>\n",
       "</div>"
      ],
      "text/plain": [
       "  itens\n",
       "0  8512\n",
       "1  8443\n",
       "2  6109\n",
       "3  3206\n",
       "4  8538\n",
       "5  7312\n",
       "6  7304\n",
       "7  9615\n",
       "8  2840\n",
       "9  8482"
      ]
     },
     "execution_count": 44,
     "metadata": {},
     "output_type": "execute_result"
    }
   ],
   "source": [
    "# Extraio os dados a serem trabalhados\n",
    "back_produtos21 = pd.read_sql(\"SELECT (itens) FROM produtos21\", conection)\n",
    "back_produtos21.head(10)"
   ]
  },
  {
   "cell_type": "code",
   "execution_count": null,
   "id": "b8432fad",
   "metadata": {},
   "outputs": [],
   "source": [
    "\"\"\"\n",
    "    Continue...\n",
    "               \n",
    "               \"\"\""
   ]
  },
  {
   "cell_type": "markdown",
   "id": "b02f0ae7",
   "metadata": {},
   "source": [
    "# Fim da Análise!\n",
    "#### Feito por mim, <a href=\"https://linkedin.com/in/mario-barcelos\"> Mario Barcelos! </a> "
   ]
  }
 ],
 "metadata": {
  "kernelspec": {
   "display_name": "Python 3 (ipykernel)",
   "language": "python",
   "name": "python3"
  },
  "language_info": {
   "codemirror_mode": {
    "name": "ipython",
    "version": 3
   },
   "file_extension": ".py",
   "mimetype": "text/x-python",
   "name": "python",
   "nbconvert_exporter": "python",
   "pygments_lexer": "ipython3",
   "version": "3.9.7"
  }
 },
 "nbformat": 4,
 "nbformat_minor": 5
}
